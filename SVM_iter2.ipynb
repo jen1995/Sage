{
 "cells": [
  {
   "cell_type": "code",
   "execution_count": 2,
   "metadata": {
    "collapsed": false
   },
   "outputs": [
    {
     "name": "stdout",
     "output_type": "stream",
     "text": [
      "Populating the interactive namespace from numpy and matplotlib\n"
     ]
    }
   ],
   "source": [
    "import pandas as pd\n",
    "import pylab as plt\n",
    "import seaborn\n",
    "import numpy as np\n",
    "import re\n",
    "from sklearn.cross_validation import train_test_split\n",
    "from sklearn.svm import SVC\n",
    "from sklearn import metrics\n",
    "%pylab inline\n",
    "from sklearn.metrics import classification_report\n",
    "from sklearn.ensemble import RandomForestClassifier\n",
    "from sklearn.linear_model import SGDClassifier\n",
    "from sklearn import preprocessing\n",
    "from sklearn.model_selection import cross_val_score\n",
    "from sklearn.model_selection import cross_validate\n",
    "from sklearn.metrics import recall_score\n",
    "from sklearn.metrics import precision_score"
   ]
  },
  {
   "cell_type": "markdown",
   "metadata": {
    "collapsed": false
   },
   "source": [
    "### Реализация алгоритма F4 с нормальной стратегией выбора S-пар и стратегией просто выбора всех пар."
   ]
  },
  {
   "cell_type": "code",
   "execution_count": 3,
   "metadata": {
    "collapsed": false
   },
   "outputs": [
    {
     "name": "stdout",
     "output_type": "stream",
     "text": [
      "\n",
      "\n",
      "EXAMPLE 1\n",
      "\n",
      "The initial system F = [x + y + z, x*y + x*z + y*z, x*y*z - u^3]\n",
      "\n",
      "Output of F4:\n",
      "([x + y + z, y^2 + y*z + z^2, z^3 - u^3], 4)\n",
      "([x + y + z, y^2 + y*z + z^2, z^3 - u^3], 2)\n",
      "\n",
      "\n",
      "EXAMPLE 2\n",
      "\n",
      "The initial system F = [x*y - z^2 - z, x^2 - y*z - x, -y^2 + x*z - y]\n",
      "\n",
      "Output of F4:\n",
      "([y*z, x*z - z^2 - z, y^2 - z^2 + y - z, x*y - z^2 - z, x^2 - x, z^3 + z^2], 3)\n",
      "([y*z, x*z - z^2 - z, y^2 - z^2 + y - z, x*y - z^2 - z, x^2 - x, z^3 + z^2], 3)\n",
      "\n",
      "\n",
      "EXAMPLE 3\n",
      "\n",
      "The initial system F = [4*x4, -2*x2^2 - 4*x1*x3 + 6*x4^2, 4*x1^2*x2 + 4*x2*x3^2 - 4*x2^2*x4 - 8*x1*x3*x4 + 4*x4^3, -x1^4 + x2^4 - 4*x1*x2^2*x3 + 2*x1^2*x3^2 - x3^4 + 4*x1^2*x2*x4 + 4*x2*x3^2*x4 - 2*x2^2*x4^2 - 4*x1*x3*x4^2 + x4^4]\n",
      "\n",
      "Output of F4:\n"
     ]
    },
    {
     "name": "stdout",
     "output_type": "stream",
     "text": [
      "([x4, x2^2 + 2*x1*x3, x1^2*x2 + x2*x3^2, x1^3*x3 + x1*x3^3, x1^4 - 14*x1^2*x3^2 + x3^4, x2*x3^4, x1^2*x3^3 - 1/15*x3^5, x1*x3^5, x3^7], 7)\n",
      "([x4, x2^2 + 2*x1*x3, x1^2*x2 + x2*x3^2, x1^3*x3 + x1*x3^3, x1^4 - 14*x1^2*x3^2 + x3^4, x2*x3^4, x1^2*x3^3 - 1/15*x3^5, x1*x3^5, x3^7], 4)\n"
     ]
    }
   ],
   "source": [
    "#  Implementation of the F4 Algorithm in Sage\n",
    "#  [1]  Jean-Charles Faugere. A new efficient algorithm for computing Groebner bases (F4). Journal of pure and applied algebra, 139(1–3):61–88, July 1999.\n",
    "#  [2]  Alessandro Giovini, Teo Mora, Gianfranco Niesi, Lorenzo Robbiano, Carlo Traverso. \"One sugar cube, please \"or Selection strategies in the Buchberger algorithm\"\".\n",
    "\n",
    "########################################\n",
    "#  Create a pair from two polynomials  #\n",
    "########################################\n",
    "#  [1] Definition 2.5, page 5\n",
    "\n",
    "def Pair(f, g):\n",
    "    try:\n",
    "        lcm = (f.lm()).lcm(g.lm())\n",
    "        return (lcm, lcm // f.lm(), f, lcm // g.lm(), g)\n",
    "    except ZeroDivisionError:\n",
    "        raise Exception()\n",
    "\n",
    "########################################\n",
    "#   Function adds new pairs to Pairs (f, g) where f belongs to new (set of polynomials),\n",
    "#   g belongs to basis (temporary basis Gr. already found up to this point)\n",
    "########################################\n",
    "\n",
    "def FirstBuchbergerCriterion(f, g):\n",
    "    if (f.lm()).gcd(g.lm()) == 1:\n",
    "        return True\n",
    "    return False\n",
    "\n",
    "'''\n",
    "def SecondBuchbergerCriterion(f, g, basis, pairs):\n",
    "    isReducible, h = IsTopReducible((f.lm()).lcm(g.lm()), basis)\n",
    "    if isReducible:\n",
    "        if Pair(f, h) in pairs and Pair(g, h) in pairs:\n",
    "            return True\n",
    "    return False\n",
    "\n",
    "def BuchbergerCriteria(f, g, basis, Pairs):\n",
    "    if FirstBuchbergerCriterion(f, g) and SecondBuchbergerCriterion(f, g, basis, pairs):\n",
    "        return True\n",
    "    return False\n",
    "'''\n",
    "\n",
    "def Update(basis, pairs, new):\n",
    "    try:\n",
    "        basis += new\n",
    "        basis = uniq(basis)\n",
    "        for f in new:\n",
    "            for g in basis:\n",
    "                if f != g and Pair(g, f) not in pairs:\n",
    "                    if not FirstBuchbergerCriterion(f, g):\n",
    "                        pairs.append(Pair(f, g))\n",
    "        result = [basis, pairs]\n",
    "        return result\n",
    "    except Exception:\n",
    "        print \"basis = \", basis\n",
    "        for elem in basis:\n",
    "            print elem.parent()\n",
    "\n",
    "##############################################\n",
    "#  Selection function - the normal strategy  #\n",
    "##############################################\n",
    "#  [1] function Sel, page 13\n",
    "\n",
    "def LCM(pair):\n",
    "    return pair[0]\n",
    "\n",
    "def SelectionFunctionNormal(pairs):\n",
    "    d = min([LCM(p).degree() for p in pairs])\n",
    "    dPairs = [p for p in pairs if LCM(p).degree() == d]\n",
    "    return dPairs\n",
    "\n",
    "##############################################\n",
    "#  Selection function - take all pairs  #\n",
    "##############################################\n",
    "\n",
    "def SelectionFunctionAll(pairs):\n",
    "    return pairs\n",
    "\n",
    "############################\n",
    "#  Symbolic Preprocessing  #\n",
    "############################\n",
    "#  [1] Symbolic Preprocessing, page 7\n",
    "#  for this procedure better see http://www.broune.com/papers/f4.pdf\n",
    "#  page 2, instead of the original paper\n",
    "\n",
    "def IsTopReducible(f, G):\n",
    "    m = f.lm()\n",
    "    for g in G:\n",
    "        if g.lm().divides(m):\n",
    "             return True, g\n",
    "    return False, 0\n",
    "\n",
    "def SymbolicPreprocessing(L, G):\n",
    "    F = []\n",
    "    for Li in L:\n",
    "        F.append(Li[0] * Li[1])\n",
    "    done = set([f.lt() for f in F])\n",
    "    TF = set()\n",
    "    for f in F:\n",
    "        TF |= set(f.monomials())\n",
    "\n",
    "    while len(TF) > 0:\n",
    "        m = TF.pop()\n",
    "        done.add(m)\n",
    "        isReducible, f = IsTopReducible(m, G)\n",
    "        if isReducible:\n",
    "            mDash = m // f.lm()\n",
    "            F.append(mDash * f)\n",
    "            newMonomials = (mDash * f).monomials()\n",
    "            newMonomials.remove(newMonomials[0])\n",
    "            TF |= set(newMonomials)\n",
    "            TF -= done\n",
    "    return F\n",
    "\n",
    "###############\n",
    "#  Reduction  #\n",
    "###############\n",
    "#  [1] Reduction, page 6\n",
    "\n",
    "def Reduction(L, G):\n",
    "    F = SymbolicPreprocessing(L, G)\n",
    "\n",
    "    leadingMonomials = set()\n",
    "    for f in F:\n",
    "        leadingMonomials.add(f.lm())\n",
    "\n",
    "    monomials = set()\n",
    "    for f in F:\n",
    "        monomials |= set(f.monomials())\n",
    "\n",
    "    monomials = list(monomials)\n",
    "    monomials.sort(reverse = True)\n",
    "\n",
    "    M = Matrix(len(F), len(monomials), lambda i, j: F[i].monomial_coefficient(monomials[j]), sparse = True)\n",
    "    M.echelonize()\n",
    "    polynomialsAfterEchelonize = []\n",
    "\n",
    "    for i in range(M.nrows()):\n",
    "        f = 0\n",
    "        for j in range(M.ncols()):\n",
    "            f += M[i, j] * monomials[j]\n",
    "        if f != 0 and f.lm() not in leadingMonomials:\n",
    "            polynomialsAfterEchelonize.append(f)\n",
    "\n",
    "    return polynomialsAfterEchelonize\n",
    "\n",
    "def IsReducible(f, F):\n",
    "    if F == []:\n",
    "        return False, 0\n",
    "    f1 = f.reduce(F)\n",
    "    if f1 != f:\n",
    "        return True, f1\n",
    "    return False, 0\n",
    "\n",
    "def ReductionOfBasis(F):\n",
    "    i = 0\n",
    "    while i < len(F):\n",
    "        if F[i] != 0:\n",
    "            G = []\n",
    "            for j in range (len(F)):\n",
    "                if j != i:\n",
    "                    if F[j] != 0:\n",
    "                        G.append(F[j])\n",
    "            (t, g) = IsReducible(F[i], G)\n",
    "            if t:\n",
    "                F[i] = g\n",
    "                i = -1\n",
    "        i += 1\n",
    "    G = []\n",
    "    for j in range (len(F)):\n",
    "        if F[j] != 0:\n",
    "            G.append(F[j] / F[j].lc())\n",
    "    return G\n",
    "\n",
    "#######################################\n",
    "#  Main function of the F4 Algorithm  #\n",
    "#######################################\n",
    "#  [1] Algorithm F4, page 6\n",
    "\n",
    "def F4(polynomials, strategy):\n",
    "    (basis, pairs) = Update([], [], polynomials)\n",
    "    howManySteps = 0\n",
    "\n",
    "    while len(pairs) > 0:\n",
    "        howManySteps += 1\n",
    "\n",
    "        if (strategy == 'normal'):\n",
    "            pairsSel = SelectionFunctionNormal(pairs)\n",
    "        else:\n",
    "            pairsSel = SelectionFunctionAll(pairs)\n",
    "        pairs = list(set(pairs) - set(pairsSel))\n",
    "\n",
    "        Ld = set()\n",
    "        for pair in pairsSel:\n",
    "            Ld.add((pair[1], pair[2]))\n",
    "            Ld.add((pair[3], pair[4]))\n",
    "\n",
    "        new = Reduction(Ld, basis)\n",
    "        (basis, pairs) = Update(basis, pairs, new)\n",
    "\n",
    "    return ReductionOfBasis(basis), howManySteps\n",
    "\n",
    "print \"\\n\\nEXAMPLE 1\\n\"\n",
    "R.<x, y, z, u> = PolynomialRing(QQ, 4, order = \"degrevlex\")\n",
    "F = [x + y + z, x * y + x * z + y * z, x * y * z - u ^ 3]\n",
    "print \"The initial system F =\", F\n",
    "print \"\\nOutput of F4:\"\n",
    "print F4(F, 'normal')\n",
    "print F4(F, 'all')\n",
    "\n",
    "print \"\\n\\nEXAMPLE 2\\n\"\n",
    "f = x*y - z^2 - z\n",
    "g = x^2 - x - y*z\n",
    "h = x*z - y^2 - y\n",
    "F = [f, g, h]\n",
    "print \"The initial system F =\", F\n",
    "print \"\\nOutput of F4:\"\n",
    "print F4(F, 'normal')\n",
    "print F4(F, 'all')\n",
    "\n",
    "print \"\\n\\nEXAMPLE 3\\n\"\n",
    "R.<x1, x2, x3, x4> = PolynomialRing(QQ, 4)\n",
    "F = [4*x4, -2*x2^2 - 4*x1*x3 + 6*x4^2, 4*x1^2*x2 + 4*x2*x3^2 - 4*x2^2*x4 - 8*x1*x3*x4 + 4*x4^3, -x1^4 + x2^4 - 4*x1*x2^2*x3 + 2*x1^2*x3^2 - x3^4 + 4*x1^2*x2*x4 + 4*x2*x3^2*x4 - 2*x2^2*x4^2 - 4*x1*x3*x4^2 + x4^4]\n",
    "print \"The initial system F =\", F\n",
    "print \"\\nOutput of F4:\"\n",
    "print F4(F, 'normal')\n",
    "print F4(F, 'all')"
   ]
  },
  {
   "cell_type": "code",
   "execution_count": 4,
   "metadata": {
    "collapsed": false,
    "scrolled": true
   },
   "outputs": [
   ],
   "source": [
    "def Spol(f, g):\n",
    "    h = (f.lm()).lcm(g.lm())\n",
    "    return g.lc() * h * f // f.lm() - f.lc() * h * g // g.lm()\n",
    "\n",
    "def is_groebner_basis(G):\n",
    "    if G == []:\n",
    "        return False\n",
    "    R = G[0].parent()\n",
    "    for i in xrange(len(G)) :\n",
    "        f = G[i]\n",
    "        for j in xrange(i, len(G)) :\n",
    "            g = G[j]\n",
    "            if (Spol(f, g)).reduce(G) != R(0) :\n",
    "                return False\n",
    "    return True\n",
    "\n",
    "def LaunchF4(n):\n",
    "    for i in range (n):\n",
    "        generators = GetRandomGeneratorsForIdeal(4, 4, 4)\n",
    "        while 0 in generators:\n",
    "            print \"Zero in generators\"\n",
    "            generators = GetRandomGeneratorsForIdeal(4, 4, 4)\n",
    "        basis, steps = F4(generators, 'all')\n",
    "        if not is_groebner_basis(basis):\n",
    "            print \"error, system = \", generators\n",
    "\n",
    "# %time LaunchF4(200)"
   ]
  },
  {
   "cell_type": "markdown",
   "metadata": {
    "collapsed": false
   },
   "source": [
    "Займёмся теперь тем, что сгенерируем данные для выбора более хорошей стратегии. Будем сравнивать стратегии normal и all (реализованы в алгоритме). Пока будем считать, что стратегия хорошая, если \n",
    "\n",
    "Пока что мы будем считать, что стратегия хороша, если при её использовании было сделано меньше итераций алгоритма. Под итерацией понимается итерация основного цикла while len(pairs > 0) в функции F4(polynomials, strategy). Число итераций -- это число приведений к ступенчатому виду матриц, возникающих в процессе алгоритма, так как матрица строится только при вызове Reduction, а она вызывается как раз в этом цикле.\n",
    "\n",
    "У нас будут следущие признаки для каждого идела:\n",
    "\n",
    "1. Число переменных в кольце-родителе.\n",
    "2. Число порождающих в идеале.\n",
    "3. Максимальная длина порождающего полинома (длина := число мономов).\n",
    "4. Минимальная длина порождающего полинома.\n",
    "5. Максимальная степень порождающего (полная, то есть наибольшая степень входящего в него монома).\n",
    "6. Минимальная степень порождающего.\n",
    "7. Однородный ли идеал.\n",
    "\n",
    "Так как однородные идеалы при случайной генерации не встречаются почти никогда, я вставила в генерирующую функцию условие, при котором она должна будет сделать идеал однородным (см. код функции GetRandomGeneratorsForIdeal). Функция GenerateDataSet генерирует датасет. Принимает на вход количество объектов в генерируемых данных, ограничение сверху на на число переменных в кольце-родителе, число порождающих и максимальную степень порождающих."
   ]
  },
  {
   "cell_type": "code",
   "execution_count": 52,
   "metadata": {
    "collapsed": false
   },
   "outputs": [
   ],
   "source": [
    "def Print(numOfObjects, i):\n",
    "    if numOfObjects <= 30:\n",
    "        print \"Object No: \", i\n",
    "    elif numOfObjects <= 100 and i % 10 == 0:\n",
    "        print \"Object No: \", i\n",
    "    elif numOfObjects <= 3000 and i % 50 == 0:\n",
    "        print \"Object No: \", i\n",
    "    elif numOfObjects <= 6000 and i % 100 == 0:\n",
    "        print \"Object No: \", i\n",
    "\n",
    "def GetFeatures(generators):\n",
    "    features = {}\n",
    "    R = generators[0].parent()\n",
    "    features[\"number of variables\"] = R.ngens()\n",
    "    features[\"number of generators\"] = len(generators)\n",
    "    features[\"max number of monomials\"] = max([len(p.monomials()) for p in generators])\n",
    "    features[\"min number of monomials\"] = min([len(p.monomials()) for p in generators])\n",
    "    features[\"max degree of generators\"] = max([f.degree() for f in generators])\n",
    "    features[\"min degree of generators\"] = min([f.degree() for f in generators])\n",
    "    features[\"ideal is homogeneous\"] = int(R.ideal(generators).is_homogeneous())\n",
    "    return features\n",
    "\n",
    "def GetRandomGeneratorsForIdeal(maxVar, maxElem, maxDeg, minVar = 1, minElem = 2,  minDeg = 1):\n",
    "    nVar = np.random.randint(minVar, maxVar)\n",
    "    nElem = np.random.randint(minElem, maxElem)\n",
    "\n",
    "    R = PolynomialRing(QQ, 'x', nVar)\n",
    "    generators = []\n",
    "\n",
    "    if nVar + nElem % 2 == 1:\n",
    "        R = (R.gens()[0] + 1).homogenize().parent()     # if we apply .homognize() to a homogeneous polynomial it's parent ring won't change\n",
    "                                                        # but we want to have a unique parent for all generators\n",
    "    for i in range(nElem):\n",
    "        deg = np.random.randint(minDeg, maxDeg)\n",
    "        randomPol = R.random_element(degree = deg)\n",
    "\n",
    "        while randomPol == R(0):\n",
    "\n",
    "            randomPol = R.random_element(degree = deg)\n",
    "\n",
    "        if nVar + nElem % 2 == 1:    # just a random criteria for a homogeneous ideal to appear\n",
    "            generators.append(R(randomPol.homogenize()))\n",
    "        else:\n",
    "            generators.append(randomPol)\n",
    "    return generators\n",
    "\n",
    "def MakeDataSet(allFeatures):\n",
    "    indices = [i for i in range(len(allFeatures))]\n",
    "    data = {}\n",
    "    for key in allFeatures[0].keys():\n",
    "        data[key] = pd.Series([f[key] for f in allFeatures], index = indices)\n",
    "\n",
    "    df = pd.DataFrame(data)\n",
    "    return df\n",
    "\n",
    "def GenerateDataSet(numOfObjects, maxVar, maxElem, maxDeg, minVar = 1, minElem = 2,  minDeg = 1):\n",
    "    allFeatures = []\n",
    "    whichStrategyIsBetter = []\n",
    "\n",
    "    for i in range (numOfObjects):\n",
    "        Print(numOfObjects, i)\n",
    "\n",
    "        generators = GetRandomGeneratorsForIdeal(maxVar, maxElem, maxDeg, minVar, minElem,  minDeg)\n",
    "        while 0 in generators:\n",
    "            generators = GetRandomGeneratorsForIdeal(maxVar, maxElem, maxDeg, minVar, minElem,  minDeg)\n",
    "\n",
    "        features = GetFeatures(generators)\n",
    "\n",
    "        basis, howManyStepsN = F4(generators, 'normal')\n",
    "        basis, howManyStepsAll = F4(generators, 'all')\n",
    "\n",
    "        if howManyStepsN <= howManyStepsAll:\n",
    "            features['better strategy: 1 - normal, 0 - all'] = 1\n",
    "        else:\n",
    "            features['better strategy: 1 - normal, 0 - all'] = 0\n",
    "\n",
    "        allFeatures.append(features)\n",
    "\n",
    "    return MakeDataSet(allFeatures)"
   ]
  },
  {
   "cell_type": "markdown",
   "metadata": {
    "collapsed": false
   },
   "source": [
    "Сгенерируем датасет со случайными полиномами с коэффициентами из Q, у которых число переменных, порождающих в идеале и степень каждого из порождающих не превышает 4 (имеется в виду полная степень). Объектов у нас будет 5000."
   ]
  },
  {
   "cell_type": "code",
   "execution_count": 53,
   "metadata": {
    "collapsed": false
   },
   "outputs": [
    {
     "name": "stdout",
     "output_type": "stream",
     "text": [
      "Object No:  0\n"
     ]
    },
    {
     "name": "stdout",
     "output_type": "stream",
     "text": [
      "Object No:  100\n"
     ]
    },
    {
     "name": "stdout",
     "output_type": "stream",
     "text": [
      "Object No:  200\n"
     ]
    },
    {
     "name": "stdout",
     "output_type": "stream",
     "text": [
      "Object No:  300\n"
     ]
    },
    {
     "name": "stdout",
     "output_type": "stream",
     "text": [
      "Object No:  400\n"
     ]
    },
    {
     "name": "stdout",
     "output_type": "stream",
     "text": [
      "Object No:  500\n"
     ]
    },
    {
     "name": "stdout",
     "output_type": "stream",
     "text": [
      "Object No:  600\n"
     ]
    },
    {
     "name": "stdout",
     "output_type": "stream",
     "text": [
      "Object No:  700\n"
     ]
    },
    {
     "name": "stdout",
     "output_type": "stream",
     "text": [
      "Object No:  800\n"
     ]
    },
    {
     "name": "stdout",
     "output_type": "stream",
     "text": [
      "Object No:  900\n"
     ]
    },
    {
     "name": "stdout",
     "output_type": "stream",
     "text": [
      "Object No:  1000\n"
     ]
    },
    {
     "name": "stdout",
     "output_type": "stream",
     "text": [
      "Object No:  1100\n"
     ]
    },
    {
     "name": "stdout",
     "output_type": "stream",
     "text": [
      "Object No:  1200\n"
     ]
    },
    {
     "name": "stdout",
     "output_type": "stream",
     "text": [
      "Object No:  1300\n"
     ]
    },
    {
     "name": "stdout",
     "output_type": "stream",
     "text": [
      "Object No:  1400\n"
     ]
    },
    {
     "name": "stdout",
     "output_type": "stream",
     "text": [
      "Object No:  1500\n"
     ]
    },
    {
     "name": "stdout",
     "output_type": "stream",
     "text": [
      "Object No:  1600\n"
     ]
    },
    {
     "name": "stdout",
     "output_type": "stream",
     "text": [
      "Object No:  1700\n"
     ]
    },
    {
     "name": "stdout",
     "output_type": "stream",
     "text": [
      "Object No:  1800\n"
     ]
    },
    {
     "name": "stdout",
     "output_type": "stream",
     "text": [
      "Object No:  1900\n"
     ]
    },
    {
     "name": "stdout",
     "output_type": "stream",
     "text": [
      "Object No:  2000\n"
     ]
    },
    {
     "name": "stdout",
     "output_type": "stream",
     "text": [
      "Object No:  2100\n"
     ]
    },
    {
     "name": "stdout",
     "output_type": "stream",
     "text": [
      "Object No:  2200\n"
     ]
    },
    {
     "name": "stdout",
     "output_type": "stream",
     "text": [
      "Object No:  2300\n"
     ]
    },
    {
     "name": "stdout",
     "output_type": "stream",
     "text": [
      "Object No:  2400\n"
     ]
    },
    {
     "name": "stdout",
     "output_type": "stream",
     "text": [
      "Object No:  2500\n"
     ]
    },
    {
     "name": "stdout",
     "output_type": "stream",
     "text": [
      "Object No:  2600\n"
     ]
    },
    {
     "name": "stdout",
     "output_type": "stream",
     "text": [
      "Object No:  2700\n"
     ]
    },
    {
     "name": "stdout",
     "output_type": "stream",
     "text": [
      "Object No:  2800\n"
     ]
    },
    {
     "name": "stdout",
     "output_type": "stream",
     "text": [
      "Object No:  2900\n"
     ]
    },
    {
     "name": "stdout",
     "output_type": "stream",
     "text": [
      "Object No:  3000\n"
     ]
    },
    {
     "name": "stdout",
     "output_type": "stream",
     "text": [
      "Object No:  3100\n"
     ]
    },
    {
     "name": "stdout",
     "output_type": "stream",
     "text": [
      "Object No:  3200\n"
     ]
    },
    {
     "name": "stdout",
     "output_type": "stream",
     "text": [
      "Object No:  3300\n"
     ]
    },
    {
     "name": "stdout",
     "output_type": "stream",
     "text": [
      "Object No:  3400\n"
     ]
    },
    {
     "name": "stdout",
     "output_type": "stream",
     "text": [
      "Object No:  3500\n"
     ]
    },
    {
     "name": "stdout",
     "output_type": "stream",
     "text": [
      "Object No:  3600\n"
     ]
    },
    {
     "name": "stdout",
     "output_type": "stream",
     "text": [
      "Object No:  3700\n"
     ]
    },
    {
     "name": "stdout",
     "output_type": "stream",
     "text": [
      "Object No:  3800\n"
     ]
    },
    {
     "name": "stdout",
     "output_type": "stream",
     "text": [
      "Object No:  3900\n"
     ]
    },
    {
     "name": "stdout",
     "output_type": "stream",
     "text": [
      "Object No:  4000\n"
     ]
    },
    {
     "name": "stdout",
     "output_type": "stream",
     "text": [
      "Object No:  4100\n"
     ]
    },
    {
     "name": "stdout",
     "output_type": "stream",
     "text": [
      "Object No:  4200\n"
     ]
    },
    {
     "name": "stdout",
     "output_type": "stream",
     "text": [
      "Object No:  4300\n"
     ]
    },
    {
     "name": "stdout",
     "output_type": "stream",
     "text": [
      "Object No:  4400\n"
     ]
    },
    {
     "name": "stdout",
     "output_type": "stream",
     "text": [
      "Object No:  4500\n"
     ]
    },
    {
     "name": "stdout",
     "output_type": "stream",
     "text": [
      "Object No:  4600\n"
     ]
    },
    {
     "name": "stdout",
     "output_type": "stream",
     "text": [
      "Object No:  4700\n"
     ]
    },
    {
     "name": "stdout",
     "output_type": "stream",
     "text": [
      "Object No:  4800\n"
     ]
    },
    {
     "name": "stdout",
     "output_type": "stream",
     "text": [
      "Object No:  4900\n"
     ]
    },
    {
     "name": "stdout",
     "output_type": "stream",
     "text": [
      "CPU times: user 3min 28s, sys: 2.27 s, total: 3min 30s\n",
      "Wall time: 3min 47s\n"
     ]
    }
   ],
   "source": [
    "%time df = GenerateDataSet(5000, 4, 4, 4)"
   ]
  },
  {
   "cell_type": "code",
   "execution_count": 54,
   "metadata": {
    "collapsed": false
   },
   "outputs": [
    {
     "data": {
      "text/html": [
       "<div>\n",
       "<style scoped>\n",
       "    .dataframe tbody tr th:only-of-type {\n",
       "        vertical-align: middle;\n",
       "    }\n",
       "\n",
       "    .dataframe tbody tr th {\n",
       "        vertical-align: top;\n",
       "    }\n",
       "\n",
       "    .dataframe thead th {\n",
       "        text-align: right;\n",
       "    }\n",
       "</style>\n",
       "<table border=\"1\" class=\"dataframe\">\n",
       "  <thead>\n",
       "    <tr style=\"text-align: right;\">\n",
       "      <th></th>\n",
       "      <th>better strategy: 1 - normal, 0 - all</th>\n",
       "      <th>ideal is homogeneous</th>\n",
       "      <th>max degree of generators</th>\n",
       "      <th>max number of monomials</th>\n",
       "      <th>min degree of generators</th>\n",
       "      <th>min number of monomials</th>\n",
       "      <th>number of generators</th>\n",
       "      <th>number of variables</th>\n",
       "    </tr>\n",
       "  </thead>\n",
       "  <tbody>\n",
       "    <tr>\n",
       "      <th>0</th>\n",
       "      <td>1</td>\n",
       "      <td>1</td>\n",
       "      <td>2</td>\n",
       "      <td>2</td>\n",
       "      <td>1</td>\n",
       "      <td>1</td>\n",
       "      <td>2</td>\n",
       "      <td>2</td>\n",
       "    </tr>\n",
       "    <tr>\n",
       "      <th>1</th>\n",
       "      <td>1</td>\n",
       "      <td>1</td>\n",
       "      <td>3</td>\n",
       "      <td>3</td>\n",
       "      <td>2</td>\n",
       "      <td>2</td>\n",
       "      <td>2</td>\n",
       "      <td>2</td>\n",
       "    </tr>\n",
       "    <tr>\n",
       "      <th>2</th>\n",
       "      <td>1</td>\n",
       "      <td>0</td>\n",
       "      <td>2</td>\n",
       "      <td>4</td>\n",
       "      <td>1</td>\n",
       "      <td>3</td>\n",
       "      <td>3</td>\n",
       "      <td>2</td>\n",
       "    </tr>\n",
       "    <tr>\n",
       "      <th>3</th>\n",
       "      <td>1</td>\n",
       "      <td>0</td>\n",
       "      <td>3</td>\n",
       "      <td>4</td>\n",
       "      <td>1</td>\n",
       "      <td>1</td>\n",
       "      <td>3</td>\n",
       "      <td>2</td>\n",
       "    </tr>\n",
       "    <tr>\n",
       "      <th>4</th>\n",
       "      <td>0</td>\n",
       "      <td>0</td>\n",
       "      <td>3</td>\n",
       "      <td>4</td>\n",
       "      <td>2</td>\n",
       "      <td>3</td>\n",
       "      <td>3</td>\n",
       "      <td>3</td>\n",
       "    </tr>\n",
       "  </tbody>\n",
       "</table>\n",
       "</div>"
      ]
     },
     "execution_count": 54,
     "metadata": {
     },
     "output_type": "execute_result"
    }
   ],
   "source": [
    "df.head()"
   ]
  },
  {
   "cell_type": "code",
   "execution_count": 56,
   "metadata": {
    "collapsed": false
   },
   "outputs": [
    {
     "data": {
      "text/html": [
       "<div>\n",
       "<style scoped>\n",
       "    .dataframe tbody tr th:only-of-type {\n",
       "        vertical-align: middle;\n",
       "    }\n",
       "\n",
       "    .dataframe tbody tr th {\n",
       "        vertical-align: top;\n",
       "    }\n",
       "\n",
       "    .dataframe thead th {\n",
       "        text-align: right;\n",
       "    }\n",
       "</style>\n",
       "<table border=\"1\" class=\"dataframe\">\n",
       "  <thead>\n",
       "    <tr style=\"text-align: right;\">\n",
       "      <th></th>\n",
       "      <th>ideal is homogeneous</th>\n",
       "      <th>max degree of generators</th>\n",
       "      <th>max number of monomials</th>\n",
       "      <th>min degree of generators</th>\n",
       "      <th>min number of monomials</th>\n",
       "      <th>number of generators</th>\n",
       "      <th>number of variables</th>\n",
       "    </tr>\n",
       "  </thead>\n",
       "  <tbody>\n",
       "    <tr>\n",
       "      <th>0</th>\n",
       "      <td>1</td>\n",
       "      <td>2</td>\n",
       "      <td>2</td>\n",
       "      <td>1</td>\n",
       "      <td>1</td>\n",
       "      <td>2</td>\n",
       "      <td>2</td>\n",
       "    </tr>\n",
       "    <tr>\n",
       "      <th>1</th>\n",
       "      <td>1</td>\n",
       "      <td>3</td>\n",
       "      <td>3</td>\n",
       "      <td>2</td>\n",
       "      <td>2</td>\n",
       "      <td>2</td>\n",
       "      <td>2</td>\n",
       "    </tr>\n",
       "    <tr>\n",
       "      <th>2</th>\n",
       "      <td>0</td>\n",
       "      <td>2</td>\n",
       "      <td>4</td>\n",
       "      <td>1</td>\n",
       "      <td>3</td>\n",
       "      <td>3</td>\n",
       "      <td>2</td>\n",
       "    </tr>\n",
       "    <tr>\n",
       "      <th>3</th>\n",
       "      <td>0</td>\n",
       "      <td>3</td>\n",
       "      <td>4</td>\n",
       "      <td>1</td>\n",
       "      <td>1</td>\n",
       "      <td>3</td>\n",
       "      <td>2</td>\n",
       "    </tr>\n",
       "    <tr>\n",
       "      <th>4</th>\n",
       "      <td>0</td>\n",
       "      <td>3</td>\n",
       "      <td>4</td>\n",
       "      <td>2</td>\n",
       "      <td>3</td>\n",
       "      <td>3</td>\n",
       "      <td>3</td>\n",
       "    </tr>\n",
       "  </tbody>\n",
       "</table>\n",
       "</div>"
      ]
     },
     "execution_count": 56,
     "metadata": {
     },
     "output_type": "execute_result"
    }
   ],
   "source": [
    "df['better strategy: 1 - normal, 0 - all'] = np.where(df['better strategy: 1 - normal, 0 - all'] == 1, 1, 0)\n",
    "y = df['better strategy: 1 - normal, 0 - all'] #выделили в отдельную переменную\n",
    "X = df.drop('better strategy: 1 - normal, 0 - all', axis = 1)\n",
    "X.head()"
   ]
  },
  {
   "cell_type": "markdown",
   "metadata": {
    "collapsed": false
   },
   "source": [
    "Разделим нашу выборку на обучающую и тестовую."
   ]
  },
  {
   "cell_type": "code",
   "execution_count": 57,
   "metadata": {
    "collapsed": false
   },
   "outputs": [
   ],
   "source": [
    "X_train, X_test, y_train, y_test = train_test_split(X, y, random_state = 42)"
   ]
  },
  {
   "cell_type": "code",
   "execution_count": 58,
   "metadata": {
    "collapsed": false
   },
   "outputs": [
    {
     "data": {
      "text/html": [
       "<div>\n",
       "<style scoped>\n",
       "    .dataframe tbody tr th:only-of-type {\n",
       "        vertical-align: middle;\n",
       "    }\n",
       "\n",
       "    .dataframe tbody tr th {\n",
       "        vertical-align: top;\n",
       "    }\n",
       "\n",
       "    .dataframe thead th {\n",
       "        text-align: right;\n",
       "    }\n",
       "</style>\n",
       "<table border=\"1\" class=\"dataframe\">\n",
       "  <thead>\n",
       "    <tr style=\"text-align: right;\">\n",
       "      <th></th>\n",
       "      <th>ideal is homogeneous</th>\n",
       "      <th>max degree of generators</th>\n",
       "      <th>max number of monomials</th>\n",
       "      <th>min degree of generators</th>\n",
       "      <th>min number of monomials</th>\n",
       "      <th>number of generators</th>\n",
       "      <th>number of variables</th>\n",
       "    </tr>\n",
       "  </thead>\n",
       "  <tbody>\n",
       "    <tr>\n",
       "      <th>4884</th>\n",
       "      <td>0</td>\n",
       "      <td>3</td>\n",
       "      <td>4</td>\n",
       "      <td>1</td>\n",
       "      <td>3</td>\n",
       "      <td>3</td>\n",
       "      <td>3</td>\n",
       "    </tr>\n",
       "    <tr>\n",
       "      <th>3163</th>\n",
       "      <td>0</td>\n",
       "      <td>3</td>\n",
       "      <td>5</td>\n",
       "      <td>1</td>\n",
       "      <td>3</td>\n",
       "      <td>2</td>\n",
       "      <td>2</td>\n",
       "    </tr>\n",
       "    <tr>\n",
       "      <th>490</th>\n",
       "      <td>0</td>\n",
       "      <td>3</td>\n",
       "      <td>5</td>\n",
       "      <td>1</td>\n",
       "      <td>2</td>\n",
       "      <td>3</td>\n",
       "      <td>2</td>\n",
       "    </tr>\n",
       "    <tr>\n",
       "      <th>862</th>\n",
       "      <td>1</td>\n",
       "      <td>2</td>\n",
       "      <td>3</td>\n",
       "      <td>1</td>\n",
       "      <td>2</td>\n",
       "      <td>2</td>\n",
       "      <td>2</td>\n",
       "    </tr>\n",
       "    <tr>\n",
       "      <th>1740</th>\n",
       "      <td>1</td>\n",
       "      <td>1</td>\n",
       "      <td>2</td>\n",
       "      <td>1</td>\n",
       "      <td>1</td>\n",
       "      <td>2</td>\n",
       "      <td>2</td>\n",
       "    </tr>\n",
       "  </tbody>\n",
       "</table>\n",
       "</div>"
      ]
     },
     "execution_count": 58,
     "metadata": {
     },
     "output_type": "execute_result"
    }
   ],
   "source": [
    "X_train.head()"
   ]
  },
  {
   "cell_type": "markdown",
   "metadata": {
    "collapsed": false
   },
   "source": [
    "Обучим на SVM-классификатор с RBF-ядром. Параметры пока оставим по умолчанию."
   ]
  },
  {
   "cell_type": "code",
   "execution_count": 59,
   "metadata": {
    "collapsed": false
   },
   "outputs": [
    {
     "data": {
      "text/plain": [
       "SVC(C=1.0, cache_size=200, class_weight=None, coef0=0.0,\n",
       "  decision_function_shape='ovr', degree=3, gamma='auto', kernel='rbf',\n",
       "  max_iter=-1, probability=False, random_state=None, shrinking=True,\n",
       "  tol=0.001, verbose=False)"
      ]
     },
     "execution_count": 59,
     "metadata": {
     },
     "output_type": "execute_result"
    }
   ],
   "source": [
    "clf = SVC(kernel = 'rbf')\n",
    "clf.fit(X_train, y_train)"
   ]
  },
  {
   "cell_type": "markdown",
   "metadata": {
    "collapsed": false
   },
   "source": [
    "Попросим классификатор что-нибудь предсказать."
   ]
  },
  {
   "cell_type": "code",
   "execution_count": 60,
   "metadata": {
    "collapsed": false
   },
   "outputs": [
    {
     "data": {
      "text/plain": [
       "array([1, 1, 0, 1, 1, 1, 1, 1, 1, 0])"
      ]
     },
     "execution_count": 60,
     "metadata": {
     },
     "output_type": "execute_result"
    }
   ],
   "source": [
    "pred_svm = clf.predict(X_test)\n",
    "pred_svm[ : 10]"
   ]
  },
  {
   "cell_type": "markdown",
   "metadata": {
    "collapsed": false
   },
   "source": [
    "Посмотрим, насколько точно наш классификатор выдаёт ответы. Сделаем это с помощью следующих трёх метрик:\n",
    "- accuracy: $$ Accuracy = \\frac{1}{l}\\sum_{i=1}^l[y_i = \\hat{y}_i]$$ где $y_i$ — истинный ответ на объекте $x_i$, $\\hat{y}_i$ — предсказанный. (лучше не переводить *accuracy* как точность, потому что в русскоязычной литературе точностью называют другую метрику)\n",
    "- точность: $$Precision = \\frac{TP}{TP + FP}$$\n",
    "- полнота: $$Recall = \\frac{TP}{TP + FN}$$\n",
    "\n",
    "где обозначения *TP*, *FP*, *FN* и *TN* — элементы матрицы ошибок:\n",
    "\n",
    "| | y = 1 | y = 0 |\n",
    "|------|------|\n",
    "|   a(x) = 1  | TP| FP |\n",
    "| a(x) = 0| FN | TN |\n",
    "\n",
    "Точность и полнота вычисляются относительно фиксированного класса. Получается, что accuracy -- это просто доля верно предсказанных ответов. Точность -- это доля верно отнесённых к рассматриваему классу объектов. Полнота -- насколько хорошо мы предсказываем объекты данного класса (ведь FN = false negative -- пропущенный объект рассматриваемого класса). Измерим все эти три метрики."
   ]
  },
  {
   "cell_type": "code",
   "execution_count": 61,
   "metadata": {
    "collapsed": false
   },
   "outputs": [
    {
     "name": "stdout",
     "output_type": "stream",
     "text": [
      "accuracy =  0.8488\n"
     ]
    }
   ],
   "source": [
    "print \"accuracy = \", metrics.accuracy_score(y_test, pred_svm)"
   ]
  },
  {
   "cell_type": "code",
   "execution_count": 62,
   "metadata": {
    "collapsed": false
   },
   "outputs": [
    {
     "name": "stdout",
     "output_type": "stream",
     "text": [
      "              precision    recall  f1-score   support\n",
      "\n",
      "   class all       0.76      0.74      0.75       383\n",
      "class normal       0.89      0.90      0.89       867\n",
      "\n",
      " avg / total       0.85      0.85      0.85      1250\n",
      "\n"
     ]
    }
   ],
   "source": [
    "target_names = ['class all', 'class normal']\n",
    "\n",
    "print classification_report(y_test, pred_svm, target_names = target_names)"
   ]
  },
  {
   "cell_type": "markdown",
   "metadata": {
    "collapsed": false
   },
   "source": [
    "Получается, что в 86% случаев ответ классификатора верный (по метрике accuracy). Кажется, что это довольно неплохо.\n",
    "\n",
    "Видно, что показатели precision оба довольно высоки, а показатель recall для класса normal похуже. Оно и понятно, ведь, как ни странно, стратегия \"взять все S-полиномы\" часто оказывается лучше нормальной, то есть класс all встречается чаще. Хотя это только по числу шагов, стоит измерить и по другим параметрам.\n",
    "\n",
    "Измерим качество предсказаний с помощью ещё двух метрик качества: площадями под ROC-кривой и Recall-кривой.\n",
    "\n",
    "### Precision-Recall кривая\n",
    "\n",
    "Раз мы умеем варьировать порог классификатора, тем самым меняя качество, интересно каким оно будет при всех возможных различных порогах. Для этого обычно строят следующий график: перебирают все пороги и по оси ОХ откладывают полноту получившегося классификатора, а по оси OY — точность. Таким образом, это дает хорошую наглядную визуализацию качества алгоритма.\n",
    "\n",
    "### ROC кривая\n",
    "\n",
    "Еще один из способ визуализации зависимости метрик качества от порога, подходящей в этом случае, является *ROC*. По осям: \n",
    " - OX: $FPR = \\frac{FP}{FP + TN}$\n",
    " - OY: $TPR = \\frac{TP}{TP + FN}$\n",
    "\n",
    "Кроме того, можно измерять площади под указанными кривыми — *auc_pr* и *auc_roc* соответственно.\n",
    "\n",
    "Нарисуем эти кривые для нашего случая и вычислим площади под ними."
   ]
  },
  {
   "cell_type": "code",
   "execution_count": 63,
   "metadata": {
    "collapsed": false
   },
   "outputs": [
    {
     "data": {
      "text/plain": [
       "array([[ 0.01307037,  0.98692963],\n",
       "       [ 0.10175857,  0.89824143],\n",
       "       [ 0.91675792,  0.08324208],\n",
       "       [ 0.42816635,  0.57183365],\n",
       "       [ 0.02521897,  0.97478103],\n",
       "       [ 0.05117068,  0.94882932],\n",
       "       [ 0.01004001,  0.98995999],\n",
       "       [ 0.01682606,  0.98317394],\n",
       "       [ 0.01363195,  0.98636805],\n",
       "       [ 0.82406167,  0.17593833]])"
      ]
     },
     "execution_count": 63,
     "metadata": {
     },
     "output_type": "execute_result"
    }
   ],
   "source": [
    "clf = SVC(kernel = 'rbf', probability = True)\n",
    "clf.fit(X_train, y_train)\n",
    "predprob_svm = clf.predict_proba(X_test)\n",
    "predprob_svm[ : 10]"
   ]
  },
  {
   "cell_type": "code",
   "execution_count": 64,
   "metadata": {
    "collapsed": false
   },
   "outputs": [
    {
     "data": {
      "image/png": "[encoded data removed]"
     },
     "execution_count": 64,
     "metadata": {
     },
     "output_type": "execute_result"
    }
   ],
   "source": [
    "fpr, tpr, thresholds = metrics.roc_curve(y_test, predprob_svm[:, 1])\n",
    "plt.plot(fpr, tpr)\n",
    "plt.title('ROC-curve')\n",
    "plt.xlabel('FPR')\n",
    "plt.ylabel('TPR')\n",
    "plt.show()"
   ]
  },
  {
   "cell_type": "code",
   "execution_count": 65,
   "metadata": {
    "collapsed": false
   },
   "outputs": [
    {
     "name": "stdout",
     "output_type": "stream",
     "text": [
      "AUC-ROC: 0.916565028715\n"
     ]
    }
   ],
   "source": [
    "print 'AUC-ROC:', metrics.auc(fpr, tpr)"
   ]
  },
  {
   "cell_type": "code",
   "execution_count": 66,
   "metadata": {
    "collapsed": false
   },
   "outputs": [
    {
     "data": {
      "image/png": "[encoded data removed]"
     },
     "execution_count": 66,
     "metadata": {
     },
     "output_type": "execute_result"
    }
   ],
   "source": [
    "precision, recall, thresholds = metrics.precision_recall_curve(y_test, predprob_svm[:, 1])\n",
    "plt.plot(recall, precision)\n",
    "plt.title('Precision-Recall-curve')\n",
    "plt.xlabel('recall')\n",
    "plt.ylabel('precision')\n",
    "plt.show()"
   ]
  },
  {
   "cell_type": "code",
   "execution_count": 67,
   "metadata": {
    "collapsed": false
   },
   "outputs": [
    {
     "name": "stdout",
     "output_type": "stream",
     "text": [
      "AUC-PR:  0.963040902665\n"
     ]
    }
   ],
   "source": [
    "print \"AUC-PR: \", metrics.auc(recall, precision)"
   ]
  },
  {
   "cell_type": "markdown",
   "metadata": {
    "collapsed": false
   },
   "source": [
    "Видно, что показатели AUC-ROC и AUC-PR довольно хороши. \n",
    "\n",
    "Попробуем узнать, какие признаки являются самыми информативными с помощью случайного леса."
   ]
  },
  {
   "cell_type": "code",
   "execution_count": 68,
   "metadata": {
    "collapsed": false
   },
   "outputs": [
   ],
   "source": [
    "def GetFeatureImportances(X, y):\n",
    "    X_train, X_test, y_train, y_test = train_test_split(X, y, random_state = 42)\n",
    "\n",
    "    clf = RandomForestClassifier(n_estimators = 200, n_jobs=-1, random_state = 42)\n",
    "    clf = clf.fit(X_train, y_train)\n",
    "\n",
    "    importances = pd.DataFrame({'feature':X_train.columns,'importance':np.round(clf.feature_importances_,3)})\n",
    "    importances = importances.sort_values('importance',ascending=False).set_index('feature')\n",
    "    print importances\n",
    "    importances.plot.bar()"
   ]
  },
  {
   "cell_type": "code",
   "execution_count": 69,
   "metadata": {
    "collapsed": false
   },
   "outputs": [
    {
     "name": "stdout",
     "output_type": "stream",
     "text": [
      "                          importance\n",
      "feature                             \n",
      "number of generators           0.307\n",
      "max degree of generators       0.280\n",
      "min degree of generators       0.196\n",
      "number of variables            0.072\n",
      "min number of monomials        0.070\n",
      "max number of monomials        0.059\n",
      "ideal is homogeneous           0.017\n"
     ]
    },
    {
     "data": {
      "image/png": "[encoded data removed]"
     },
     "execution_count": 69,
     "metadata": {
     },
     "output_type": "execute_result"
    }
   ],
   "source": [
    "GetFeatureImportances(X, y)"
   ]
  },
  {
   "cell_type": "markdown",
   "metadata": {
    "collapsed": false
   },
   "source": [
    "### Сравнение стратегий с точки зрения времени"
   ]
  },
  {
   "cell_type": "markdown",
   "metadata": {
    "collapsed": false
   },
   "source": [
    "Сравним стратегии с точки зрения времени."
   ]
  },
  {
   "cell_type": "code",
   "execution_count": 70,
   "metadata": {
    "collapsed": false
   },
   "outputs": [
   ],
   "source": [
    "from time import time\n",
    "\n",
    "def LaunchF4_time(n):\n",
    "    times = []\n",
    "    better_strategy = []\n",
    "    for i in range (n):\n",
    "        Print(n, i)\n",
    "        times.append([])\n",
    "        generators = GetRandomGeneratorsForIdeal(4, 4, 4)\n",
    "        while 0 in generators:\n",
    "            # print \"Zero in generators\"\n",
    "            generators = GetRandomGeneratorsForIdeal(4, 4, 4)\n",
    "\n",
    "        t1 = time()\n",
    "        F4(generators, 'normal')\n",
    "        t1 = time() - t1\n",
    "        times[i].append(t1)\n",
    "\n",
    "        t2 = time()\n",
    "        F4(generators, 'all')\n",
    "        t2 = time() - t2\n",
    "        times[i].append(t2)\n",
    "\n",
    "        if t2 > t1:\n",
    "            better_strategy.append(1)\n",
    "        else:\n",
    "            better_strategy.append(0)\n",
    "\n",
    "    indices = [i for i in range(n)]\n",
    "\n",
    "    d = {\n",
    "    'time with normal' : pd.Series([t[0] for t in times], index = indices),\n",
    "    'time with all': pd.Series([t[1] for t in times], index = indices),\n",
    "    'better strategy: 1 - normal, 0 - all' : pd.Series(better_strategy, index = indices)\n",
    "    }\n",
    "    return pd.DataFrame(d)"
   ]
  },
  {
   "cell_type": "code",
   "execution_count": 71,
   "metadata": {
    "collapsed": false
   },
   "outputs": [
    {
     "name": "stdout",
     "output_type": "stream",
     "text": [
      "Object No:  0\n"
     ]
    },
    {
     "name": "stdout",
     "output_type": "stream",
     "text": [
      "Object No:  50\n"
     ]
    },
    {
     "name": "stdout",
     "output_type": "stream",
     "text": [
      "Object No:  100\n"
     ]
    },
    {
     "name": "stdout",
     "output_type": "stream",
     "text": [
      "Object No:  150\n"
     ]
    },
    {
     "name": "stdout",
     "output_type": "stream",
     "text": [
      "Object No:  200\n"
     ]
    },
    {
     "name": "stdout",
     "output_type": "stream",
     "text": [
      "Object No:  250\n"
     ]
    },
    {
     "name": "stdout",
     "output_type": "stream",
     "text": [
      "Object No:  300\n"
     ]
    },
    {
     "name": "stdout",
     "output_type": "stream",
     "text": [
      "Object No:  350\n"
     ]
    },
    {
     "name": "stdout",
     "output_type": "stream",
     "text": [
      "Object No:  400\n"
     ]
    },
    {
     "name": "stdout",
     "output_type": "stream",
     "text": [
      "Object No:  450\n"
     ]
    },
    {
     "name": "stdout",
     "output_type": "stream",
     "text": [
      "Object No:  500\n"
     ]
    },
    {
     "name": "stdout",
     "output_type": "stream",
     "text": [
      "Object No:  550\n"
     ]
    },
    {
     "name": "stdout",
     "output_type": "stream",
     "text": [
      "Object No:  600\n"
     ]
    },
    {
     "name": "stdout",
     "output_type": "stream",
     "text": [
      "Object No:  650\n"
     ]
    },
    {
     "name": "stdout",
     "output_type": "stream",
     "text": [
      "Object No:  700\n"
     ]
    },
    {
     "name": "stdout",
     "output_type": "stream",
     "text": [
      "Object No:  750\n"
     ]
    },
    {
     "name": "stdout",
     "output_type": "stream",
     "text": [
      "Object No:  800\n"
     ]
    },
    {
     "name": "stdout",
     "output_type": "stream",
     "text": [
      "Object No:  850\n"
     ]
    },
    {
     "name": "stdout",
     "output_type": "stream",
     "text": [
      "Object No:  900\n"
     ]
    },
    {
     "name": "stdout",
     "output_type": "stream",
     "text": [
      "Object No:  950\n"
     ]
    },
    {
     "name": "stdout",
     "output_type": "stream",
     "text": [
      "CPU times: user 30.7 s, sys: 442 ms, total: 31.1 s\n",
      "Wall time: 35 s\n"
     ]
    }
   ],
   "source": [
    "%time df_time = LaunchF4_time(1000)"
   ]
  },
  {
   "cell_type": "code",
   "execution_count": 72,
   "metadata": {
    "collapsed": false
   },
   "outputs": [
    {
     "data": {
      "text/html": [
       "<div>\n",
       "<style scoped>\n",
       "    .dataframe tbody tr th:only-of-type {\n",
       "        vertical-align: middle;\n",
       "    }\n",
       "\n",
       "    .dataframe tbody tr th {\n",
       "        vertical-align: top;\n",
       "    }\n",
       "\n",
       "    .dataframe thead th {\n",
       "        text-align: right;\n",
       "    }\n",
       "</style>\n",
       "<table border=\"1\" class=\"dataframe\">\n",
       "  <thead>\n",
       "    <tr style=\"text-align: right;\">\n",
       "      <th></th>\n",
       "      <th>better strategy: 1 - normal, 0 - all</th>\n",
       "      <th>time with all</th>\n",
       "      <th>time with normal</th>\n",
       "    </tr>\n",
       "  </thead>\n",
       "  <tbody>\n",
       "    <tr>\n",
       "      <th>0</th>\n",
       "      <td>0</td>\n",
       "      <td>0.002375</td>\n",
       "      <td>0.005603</td>\n",
       "    </tr>\n",
       "    <tr>\n",
       "      <th>1</th>\n",
       "      <td>1</td>\n",
       "      <td>0.015063</td>\n",
       "      <td>0.005647</td>\n",
       "    </tr>\n",
       "    <tr>\n",
       "      <th>2</th>\n",
       "      <td>0</td>\n",
       "      <td>0.000102</td>\n",
       "      <td>0.000143</td>\n",
       "    </tr>\n",
       "    <tr>\n",
       "      <th>3</th>\n",
       "      <td>0</td>\n",
       "      <td>0.000120</td>\n",
       "      <td>0.000162</td>\n",
       "    </tr>\n",
       "    <tr>\n",
       "      <th>4</th>\n",
       "      <td>0</td>\n",
       "      <td>0.001682</td>\n",
       "      <td>0.003196</td>\n",
       "    </tr>\n",
       "  </tbody>\n",
       "</table>\n",
       "</div>"
      ]
     },
     "execution_count": 72,
     "metadata": {
     },
     "output_type": "execute_result"
    }
   ],
   "source": [
    "df_time.head()"
   ]
  },
  {
   "cell_type": "code",
   "execution_count": 73,
   "metadata": {
    "collapsed": false
   },
   "outputs": [
    {
     "data": {
      "text/plain": [
       "0    810\n",
       "1    190\n",
       "Name: better strategy: 1 - normal, 0 - all, dtype: int64"
      ]
     },
     "execution_count": 73,
     "metadata": {
     },
     "output_type": "execute_result"
    }
   ],
   "source": [
    "df_time['better strategy: 1 - normal, 0 - all'].value_counts()"
   ]
  },
  {
   "cell_type": "markdown",
   "metadata": {
    "collapsed": false
   },
   "source": [
    "При ограничении сверху четвёркой на число переменных, порождающих в идеале и степень каждого из порождающих стратегия all оказывается очень выигрышной по времени, как видно из подсчёта выше. К сожалению, при поднятии этих показателей вычисления становятся очень долгими или же приостанавливаются Ipython Notebook по каким-то причинам. Также пока не удаётся измерить затрачиваемую память.\n",
    "\n",
    "Сгенерируем датасет ещё раз, но теперь более хорошей будет считаться та стратегия, с помощью которой было затрачено меньше времени на вычисления."
   ]
  },
  {
   "cell_type": "code",
   "execution_count": 74,
   "metadata": {
    "collapsed": false
   },
   "outputs": [
   ],
   "source": [
    "from time import time\n",
    "\n",
    "def GenerateDataSetTime(numOfObjects, maxVar, maxElem, maxDeg, minVar = 1, minElem = 2,  minDeg = 1):\n",
    "    allFeatures = []\n",
    "    whichStrategyIsBetter = []\n",
    "\n",
    "    for i in range (numOfObjects):\n",
    "        Print(numOfObjects, i)\n",
    "\n",
    "        generators = GetRandomGeneratorsForIdeal(maxVar, maxElem, maxDeg, minVar, minElem,  minDeg)\n",
    "        while 0 in generators:\n",
    "            generators = GetRandomGeneratorsForIdeal(maxVar, maxElem, maxDeg, minVar, minElem,  minDeg)\n",
    "\n",
    "        features = GetFeatures(generators)\n",
    "\n",
    "        tNormal = time()\n",
    "        basis, howManyStepsN = F4(generators, 'normal')\n",
    "        tNormal = time() - tNormal\n",
    "\n",
    "        tAll = time()\n",
    "        basis, howManyStepsAll = F4(generators, 'all')\n",
    "        tAll = time() - tAll\n",
    "\n",
    "        if tNormal <= tAll:\n",
    "            features['better strategy: 1 - normal, 0 - all'] = 1\n",
    "        else:\n",
    "            features['better strategy: 1 - normal, 0 - all'] = 0\n",
    "\n",
    "        allFeatures.append(features)\n",
    "\n",
    "    return MakeDataSet(allFeatures)"
   ]
  },
  {
   "cell_type": "code",
   "execution_count": 75,
   "metadata": {
    "collapsed": false
   },
   "outputs": [
    {
     "name": "stdout",
     "output_type": "stream",
     "text": [
      "Object No:  0\n"
     ]
    },
    {
     "name": "stdout",
     "output_type": "stream",
     "text": [
      "Object No:  100\n"
     ]
    },
    {
     "name": "stdout",
     "output_type": "stream",
     "text": [
      "Object No:  200\n"
     ]
    },
    {
     "name": "stdout",
     "output_type": "stream",
     "text": [
      "Object No:  300\n"
     ]
    },
    {
     "name": "stdout",
     "output_type": "stream",
     "text": [
      "Object No:  400\n"
     ]
    },
    {
     "name": "stdout",
     "output_type": "stream",
     "text": [
      "Object No:  500\n"
     ]
    },
    {
     "name": "stdout",
     "output_type": "stream",
     "text": [
      "Object No:  600\n"
     ]
    },
    {
     "name": "stdout",
     "output_type": "stream",
     "text": [
      "Object No:  700\n"
     ]
    },
    {
     "name": "stdout",
     "output_type": "stream",
     "text": [
      "Object No:  800\n"
     ]
    },
    {
     "name": "stdout",
     "output_type": "stream",
     "text": [
      "Object No:  900\n"
     ]
    },
    {
     "name": "stdout",
     "output_type": "stream",
     "text": [
      "Object No:  1000\n"
     ]
    },
    {
     "name": "stdout",
     "output_type": "stream",
     "text": [
      "Object No:  1100\n"
     ]
    },
    {
     "name": "stdout",
     "output_type": "stream",
     "text": [
      "Object No:  1200\n"
     ]
    },
    {
     "name": "stdout",
     "output_type": "stream",
     "text": [
      "Object No:  1300\n"
     ]
    },
    {
     "name": "stdout",
     "output_type": "stream",
     "text": [
      "Object No:  1400\n"
     ]
    },
    {
     "name": "stdout",
     "output_type": "stream",
     "text": [
      "Object No:  1500\n"
     ]
    },
    {
     "name": "stdout",
     "output_type": "stream",
     "text": [
      "Object No:  1600\n"
     ]
    },
    {
     "name": "stdout",
     "output_type": "stream",
     "text": [
      "Object No:  1700\n"
     ]
    },
    {
     "name": "stdout",
     "output_type": "stream",
     "text": [
      "Object No:  1800\n"
     ]
    },
    {
     "name": "stdout",
     "output_type": "stream",
     "text": [
      "Object No:  1900\n"
     ]
    },
    {
     "name": "stdout",
     "output_type": "stream",
     "text": [
      "Object No:  2000\n"
     ]
    },
    {
     "name": "stdout",
     "output_type": "stream",
     "text": [
      "Object No:  2100\n"
     ]
    },
    {
     "name": "stdout",
     "output_type": "stream",
     "text": [
      "Object No:  2200\n"
     ]
    },
    {
     "name": "stdout",
     "output_type": "stream",
     "text": [
      "Object No:  2300\n"
     ]
    },
    {
     "name": "stdout",
     "output_type": "stream",
     "text": [
      "Object No:  2400\n"
     ]
    },
    {
     "name": "stdout",
     "output_type": "stream",
     "text": [
      "Object No:  2500\n"
     ]
    },
    {
     "name": "stdout",
     "output_type": "stream",
     "text": [
      "Object No:  2600\n"
     ]
    },
    {
     "name": "stdout",
     "output_type": "stream",
     "text": [
      "Object No:  2700\n"
     ]
    },
    {
     "name": "stdout",
     "output_type": "stream",
     "text": [
      "Object No:  2800\n"
     ]
    },
    {
     "name": "stdout",
     "output_type": "stream",
     "text": [
      "Object No:  2900\n"
     ]
    },
    {
     "name": "stdout",
     "output_type": "stream",
     "text": [
      "Object No:  3000\n"
     ]
    },
    {
     "name": "stdout",
     "output_type": "stream",
     "text": [
      "Object No:  3100\n"
     ]
    },
    {
     "name": "stdout",
     "output_type": "stream",
     "text": [
      "Object No:  3200\n"
     ]
    },
    {
     "name": "stdout",
     "output_type": "stream",
     "text": [
      "Object No:  3300\n"
     ]
    },
    {
     "name": "stdout",
     "output_type": "stream",
     "text": [
      "Object No:  3400\n"
     ]
    },
    {
     "name": "stdout",
     "output_type": "stream",
     "text": [
      "Object No:  3500\n"
     ]
    },
    {
     "name": "stdout",
     "output_type": "stream",
     "text": [
      "Object No:  3600\n"
     ]
    },
    {
     "name": "stdout",
     "output_type": "stream",
     "text": [
      "Object No:  3700\n"
     ]
    },
    {
     "name": "stdout",
     "output_type": "stream",
     "text": [
      "Object No:  3800\n"
     ]
    },
    {
     "name": "stdout",
     "output_type": "stream",
     "text": [
      "Object No:  3900\n"
     ]
    },
    {
     "name": "stdout",
     "output_type": "stream",
     "text": [
      "Object No:  4000\n"
     ]
    },
    {
     "name": "stdout",
     "output_type": "stream",
     "text": [
      "Object No:  4100\n"
     ]
    },
    {
     "name": "stdout",
     "output_type": "stream",
     "text": [
      "Object No:  4200\n"
     ]
    },
    {
     "name": "stdout",
     "output_type": "stream",
     "text": [
      "Object No:  4300\n"
     ]
    },
    {
     "name": "stdout",
     "output_type": "stream",
     "text": [
      "Object No:  4400\n"
     ]
    },
    {
     "name": "stdout",
     "output_type": "stream",
     "text": [
      "Object No:  4500\n"
     ]
    },
    {
     "name": "stdout",
     "output_type": "stream",
     "text": [
      "Object No:  4600\n"
     ]
    },
    {
     "name": "stdout",
     "output_type": "stream",
     "text": [
      "Object No:  4700\n"
     ]
    },
    {
     "name": "stdout",
     "output_type": "stream",
     "text": [
      "Object No:  4800\n"
     ]
    },
    {
     "name": "stdout",
     "output_type": "stream",
     "text": [
      "Object No:  4900\n"
     ]
    },
    {
     "name": "stdout",
     "output_type": "stream",
     "text": [
      "CPU times: user 2min 45s, sys: 2.14 s, total: 2min 47s\n",
      "Wall time: 3min 1s\n"
     ]
    }
   ],
   "source": [
    "%time df = GenerateDataSetTime(5000, 4, 4, 4)"
   ]
  },
  {
   "cell_type": "code",
   "execution_count": 76,
   "metadata": {
    "collapsed": false
   },
   "outputs": [
    {
     "data": {
      "text/html": [
       "<div>\n",
       "<style scoped>\n",
       "    .dataframe tbody tr th:only-of-type {\n",
       "        vertical-align: middle;\n",
       "    }\n",
       "\n",
       "    .dataframe tbody tr th {\n",
       "        vertical-align: top;\n",
       "    }\n",
       "\n",
       "    .dataframe thead th {\n",
       "        text-align: right;\n",
       "    }\n",
       "</style>\n",
       "<table border=\"1\" class=\"dataframe\">\n",
       "  <thead>\n",
       "    <tr style=\"text-align: right;\">\n",
       "      <th></th>\n",
       "      <th>ideal is homogeneous</th>\n",
       "      <th>max degree of generators</th>\n",
       "      <th>max number of monomials</th>\n",
       "      <th>min degree of generators</th>\n",
       "      <th>min number of monomials</th>\n",
       "      <th>number of generators</th>\n",
       "      <th>number of variables</th>\n",
       "    </tr>\n",
       "  </thead>\n",
       "  <tbody>\n",
       "    <tr>\n",
       "      <th>0</th>\n",
       "      <td>0</td>\n",
       "      <td>3</td>\n",
       "      <td>4</td>\n",
       "      <td>2</td>\n",
       "      <td>3</td>\n",
       "      <td>3</td>\n",
       "      <td>1</td>\n",
       "    </tr>\n",
       "    <tr>\n",
       "      <th>1</th>\n",
       "      <td>1</td>\n",
       "      <td>3</td>\n",
       "      <td>3</td>\n",
       "      <td>2</td>\n",
       "      <td>3</td>\n",
       "      <td>2</td>\n",
       "      <td>2</td>\n",
       "    </tr>\n",
       "    <tr>\n",
       "      <th>2</th>\n",
       "      <td>0</td>\n",
       "      <td>3</td>\n",
       "      <td>4</td>\n",
       "      <td>2</td>\n",
       "      <td>3</td>\n",
       "      <td>2</td>\n",
       "      <td>3</td>\n",
       "    </tr>\n",
       "    <tr>\n",
       "      <th>3</th>\n",
       "      <td>1</td>\n",
       "      <td>3</td>\n",
       "      <td>3</td>\n",
       "      <td>1</td>\n",
       "      <td>2</td>\n",
       "      <td>2</td>\n",
       "      <td>2</td>\n",
       "    </tr>\n",
       "    <tr>\n",
       "      <th>4</th>\n",
       "      <td>0</td>\n",
       "      <td>3</td>\n",
       "      <td>5</td>\n",
       "      <td>1</td>\n",
       "      <td>2</td>\n",
       "      <td>2</td>\n",
       "      <td>3</td>\n",
       "    </tr>\n",
       "  </tbody>\n",
       "</table>\n",
       "</div>"
      ]
     },
     "execution_count": 76,
     "metadata": {
     },
     "output_type": "execute_result"
    }
   ],
   "source": [
    "df['better strategy: 1 - normal, 0 - all'] = np.where(df['better strategy: 1 - normal, 0 - all'] == 1, 1, 0)\n",
    "y = df['better strategy: 1 - normal, 0 - all'] #выделили в отдельную переменную\n",
    "X = df.drop('better strategy: 1 - normal, 0 - all', axis = 1)\n",
    "X.head()"
   ]
  },
  {
   "cell_type": "markdown",
   "metadata": {
    "collapsed": false
   },
   "source": [
    "Посмотрим на те же метрики, что были рассмотрены при сравнении стратегий по числу шагов."
   ]
  },
  {
   "cell_type": "code",
   "execution_count": 77,
   "metadata": {
    "collapsed": false
   },
   "outputs": [
   ],
   "source": [
    "def TrainAndShowMetrics(X, y, classOne, classTwo, clf, transform = False):\n",
    "    print \"Classifier:\\n\"\n",
    "    print clf\n",
    "    print \"\\n\"\n",
    "    X_train, X_test, y_train, y_test = train_test_split(X, y, random_state = 42)\n",
    "\n",
    "    if transform:\n",
    "        print \"After StandardScaler\\n\"\n",
    "        scaler = preprocessing.StandardScaler().fit(X_train)\n",
    "        X_train = scaler.transform(X_train)\n",
    "        clf.fit(X_train, y_train)\n",
    "        X_test = scaler.transform(X_test)\n",
    "        pred = clf.predict(X_test)\n",
    "\n",
    "    else:\n",
    "        clf.fit(X_train, y_train)\n",
    "        pred = clf.predict(X_test)\n",
    "\n",
    "    print \"accuracy = {} \\n\".format(metrics.accuracy_score(y_test, pred))\n",
    "\n",
    "    target_names = [classOne, classTwo]\n",
    "\n",
    "    print classification_report(y_test, pred, target_names = target_names)\n",
    "\n",
    "    predprob = clf.predict_proba(X_test)\n",
    "\n",
    "    fpr, tpr, thresholds = metrics.roc_curve(y_test, predprob[:, 1])\n",
    "    plt.plot(fpr, tpr)\n",
    "    plt.title('ROC-curve')\n",
    "    plt.xlabel('FPR')\n",
    "    plt.ylabel('TPR')\n",
    "    plt.show()\n",
    "\n",
    "    print 'AUC-ROC:', metrics.auc(fpr, tpr)\n",
    "\n",
    "    precision, recall, thresholds = metrics.precision_recall_curve(y_test, predprob[:, 1])\n",
    "    plt.plot(recall, precision)\n",
    "    plt.title('Precision-Recall-curve')\n",
    "    plt.xlabel('recall')\n",
    "    plt.ylabel('precision')\n",
    "    plt.show()\n",
    "\n",
    "    print \"AUC-PR: \", metrics.auc(recall, precision)\n"
   ]
  },
  {
   "cell_type": "code",
   "execution_count": 78,
   "metadata": {
    "collapsed": false
   },
   "outputs": [
    {
     "name": "stdout",
     "output_type": "stream",
     "text": [
      "Classifier:\n",
      "\n",
      "SVC(C=1.0, cache_size=200, class_weight=None, coef0=0.0,\n",
      "  decision_function_shape='ovr', degree=3, gamma='auto', kernel='rbf',\n",
      "  max_iter=-1, probability=True, random_state=None, shrinking=True,\n",
      "  tol=0.001, verbose=False)\n",
      "\n",
      "\n"
     ]
    },
    {
     "name": "stdout",
     "output_type": "stream",
     "text": [
      "accuracy = 0.8616 \n",
      "\n",
      "              precision    recall  f1-score   support\n",
      "\n",
      "   class all       0.88      0.96      0.92      1049\n",
      "class normal       0.62      0.35      0.45       201\n",
      "\n",
      " avg / total       0.84      0.86      0.84      1250\n",
      "\n"
     ]
    },
    {
     "data": {
      "image/png": "[encoded data removed]"
     },
     "execution_count": 78,
     "metadata": {
     },
     "output_type": "execute_result"
    },
    {
     "name": "stdout",
     "output_type": "stream",
     "text": [
      "AUC-ROC: 0.769481951539\n"
     ]
    },
    {
     "data": {
      "image/png": "[encoded data removed]"
     },
     "execution_count": 78,
     "metadata": {
     },
     "output_type": "execute_result"
    },
    {
     "name": "stdout",
     "output_type": "stream",
     "text": [
      "AUC-PR:  0.466270390342\n"
     ]
    }
   ],
   "source": [
    "clf = SVC(kernel = 'rbf', probability = True)\n",
    "\n",
    "TrainAndShowMetrics(X, y, 'class all', 'class normal', clf)"
   ]
  },
  {
   "cell_type": "markdown",
   "metadata": {
    "collapsed": false
   },
   "source": [
    "Показатели плохи. Видимо, недостаточно имеющихся признаков для классификации по времени. Интересно, изменилась ли градация важности признаков при сравнении стратегий по другому параметру (то есть не по числу итераций, а по времени)."
   ]
  },
  {
   "cell_type": "code",
   "execution_count": 79,
   "metadata": {
    "collapsed": false
   },
   "outputs": [
    {
     "name": "stdout",
     "output_type": "stream",
     "text": [
      "                          importance\n",
      "feature                             \n",
      "number of variables            0.305\n",
      "number of generators           0.261\n",
      "min number of monomials        0.141\n",
      "max degree of generators       0.110\n",
      "max number of monomials        0.087\n",
      "min degree of generators       0.087\n",
      "ideal is homogeneous           0.010\n"
     ]
    },
    {
     "data": {
      "image/png": "[encoded data removed]"
     },
     "execution_count": 79,
     "metadata": {
     },
     "output_type": "execute_result"
    }
   ],
   "source": [
    "GetFeatureImportances(X, y)"
   ]
  },
  {
   "cell_type": "markdown",
   "metadata": {
    "collapsed": false
   },
   "source": [
    "Информативность признаков в целом понизилась, и наиболее информативными оказались не те признаки, что были для итераций. Довольно странно."
   ]
  },
  {
   "cell_type": "markdown",
   "metadata": {
    "collapsed": false
   },
   "source": [
    "### Стратегия, основанная на машинном обучении "
   ]
  },
  {
   "cell_type": "markdown",
   "metadata": {
    "collapsed": false
   },
   "source": [
    "##### Датасет и выбор классификатора"
   ]
  },
  {
   "cell_type": "markdown",
   "metadata": {
    "collapsed": false
   },
   "source": [
    "Попробуем научиться выбирать S-пары, основываясь на машинном обучении. Будем считать S-пару хорошей, если она не редуцируется относительно текущего базиса к нулю, и плохой в противном случае. Для sPair(f, g) будем называть левым и правым полиномы f и g соответственно. Признаки у S-пары f и g будут состоять из признаков для обоих полиномов и признаков текущего базиса Грёбнера:\n",
    "1. Степень НОК(f.lm(), g.lm())\n",
    "\n",
    "(каждый следующий признак берётся и для левого, и для правого полиномов)\n",
    "\n",
    "2. Степень полинома (полная).\n",
    "3. Степень старшего монома.\n",
    "4. Количество мономов.\n",
    "5. Количество переменных.\n",
    "6. Максимальная степень по переменной.\n",
    "7. Минимальная степень по переменной.\n",
    "\n",
    "(следующие признаки берутся для идеала, порождённого текущим базисом)\n",
    "\n",
    "8. Число переменных в кольце-родителе.\n",
    "9. Число порождающих в идеале.\n",
    "10. Максимальная длина порождающего полинома (длина := число мономов).\n",
    "11. Минимальная длина порождающего полинома.\n",
    "12. Максимальная степень порождающего (полная, то есть наибольшая степень входящего в него монома).\n",
    "13. Минимальная степень порождающего.\n",
    "\n",
    "Всего признаков вышло 19. Для датасета будем запускать F4 до тех пор, пока суммарно за все запуски не будет рассмотрено количество S-пар не меньше некоторого заданного."
   ]
  },
  {
   "cell_type": "code",
   "execution_count": 8,
   "metadata": {
    "collapsed": false
   },
   "outputs": [
   ],
   "source": [
    "def GetMaxDegreeByVariable(polynomials, variable):\n",
    "    maxDegVar = max([pol.degree(variable) for pol in polynomials])\n",
    "\n",
    "def GetIdealFeatures(generators, featureVector):\n",
    "    R = generators[0].parent()\n",
    "    featureVector[\"number of variables in parent ring\"] = R.ngens()\n",
    "    featureVector[\"number of generators\"] = len(generators)\n",
    "    featureVector[\"max number of monomials in generators\"] = max([len(p.monomials()) for p in generators])\n",
    "    featureVector[\"min number of monomials in generators\"] = min([len(p.monomials()) for p in generators])\n",
    "    featureVector[\"max degree of generators\"] = max([f.degree() for f in generators])\n",
    "    featureVector[\"min degree of generators\"] = min([f.degree() for f in generators])\n",
    "\n",
    "def GetPolynomialFeatures(polynomial, polynomialName, featureVector):\n",
    "    R = polynomial.parent()\n",
    "    X = R.gens()\n",
    "    featureVector[\"number of variables for \" + polynomialName] = R.ngens()\n",
    "    featureVector[\"number of monomials for \" + polynomialName] = len(polynomial.monomials())\n",
    "    featureVector[\"min degree by variable for \" + polynomialName] = min([polynomial.degree(variable) for variable in X])\n",
    "    featureVector[\"max degree by variable for \" + polynomialName] = max([polynomial.degree(variable) for variable in X])\n",
    "    featureVector[\"full degree for \" + polynomialName] = polynomial.degree()\n",
    "    featureVector[\"lt degree for \" + polynomialName] = polynomial.lt().degree()\n",
    "\n",
    "def GetPairFeatures(pair, basis, featureVector):\n",
    "    leftPolynomial, rightPolynomial = pair[2], pair[4]\n",
    "    leftX = leftPolynomial.parent().gens()\n",
    "    rightX = rightPolynomial.parent().gens()\n",
    "\n",
    "    featureVector[\"lcm degree\"] = pair[0].degree()\n",
    "    GetIdealFeatures(basis, featureVector)\n",
    "    GetPolynomialFeatures(leftPolynomial, \"left polynomial\", featureVector)\n",
    "    GetPolynomialFeatures(rightPolynomial, \"right polynomial\", featureVector)\n",
    "\n",
    "def Spol(f, g):\n",
    "    h = (f.lm()).lcm(g.lm())\n",
    "    return g.lc() * h * f // f.lm() - f.lc() * h * g // g.lm()\n",
    "\n",
    "def GetData(pairs, basis, allFeatures):\n",
    "    for pair in pairs:\n",
    "        featureVector = {}\n",
    "        GetPairFeatures(pair, basis, featureVector)\n",
    "        if Spol(pair[2], pair[4]).reduce(basis) == 0:\n",
    "            featureVector[\"should be taken\"] = 0\n",
    "        else:\n",
    "            featureVector[\"should be taken\"] = 1\n",
    "        allFeatures.append(featureVector)\n",
    "\n",
    "def F4_data(polynomials, allFeatures):\n",
    "    (basis, pairs) = Update([], [], polynomials)\n",
    "\n",
    "    while len(pairs) > 0:\n",
    "        pairsSel = SelectionFunctionAll(pairs)\n",
    "        GetData(pairs, basis, allFeatures)\n",
    "\n",
    "        pairs = list(set(pairs) - set(pairsSel))\n",
    "\n",
    "        Ld = set()\n",
    "        for pair in pairsSel:\n",
    "            Ld.add((pair[1], pair[2]))\n",
    "            Ld.add((pair[3], pair[4]))\n",
    "\n",
    "        Fdtplus = Reduction(Ld, basis)\n",
    "        (basis, pairs) = Update(basis, pairs, Fdtplus)\n",
    "\n",
    "    return ReductionOfBasis(basis)\n",
    "\n",
    "def CreateDataSetForNewStrategy(approximateNumOfObjects, maxVar, maxElem, maxDeg, minVar = 1, minElem = 2,  minDeg = 1):\n",
    "    allFeatures = []\n",
    "    counter = 0\n",
    "    while len(allFeatures) < approximateNumOfObjects:\n",
    "        if counter % 100 == 0:\n",
    "            print \"Current number of objects: \", len(allFeatures)\n",
    "        counter += 1\n",
    "        generators = GetRandomGeneratorsForIdeal(maxVar, maxElem, maxDeg, minVar, minElem,  minDeg)\n",
    "        while 0 in generators:\n",
    "            generators = GetRandomGeneratorsForIdeal(maxVar, maxElem, maxDeg, minVar, minElem,  minDeg)\n",
    "        F4_data(generators, allFeatures)\n",
    "    return MakeDataSet(allFeatures)"
   ]
  },
  {
   "cell_type": "markdown",
   "metadata": {
    "collapsed": false
   },
   "source": [
    "Создадим датасет, содержащий 10 000 объектов (то есть векторы признаков для 10 000 пар). Для системы порождающих, на которых будет запускаться F4, ограничения будут такими: число переменных <= 4, число порождающих <= 5, степени порождающих <= 5."
   ]
  },
  {
   "cell_type": "code",
   "execution_count": 9,
   "metadata": {
    "collapsed": false
   },
   "outputs": [
    {
     "name": "stdout",
     "output_type": "stream",
     "text": [
      "Current number of objects:  0\n"
     ]
    },
    {
     "name": "stdout",
     "output_type": "stream",
     "text": [
      "Current number of objects:  2255\n"
     ]
    },
    {
     "name": "stdout",
     "output_type": "stream",
     "text": [
      "Current number of objects:  4371\n"
     ]
    },
    {
     "name": "stdout",
     "output_type": "stream",
     "text": [
      "Current number of objects:  7476\n"
     ]
    },
    {
     "name": "stdout",
     "output_type": "stream",
     "text": [
      "Current number of objects:  9916\n",
      "CPU times: user 52.7 s, sys: 155 ms, total: 52.9 s\n",
      "Wall time: 56.8 s\n"
     ]
    }
   ],
   "source": [
    "%time df_newstrat = CreateDataSetForNewStrategy(10000, 4, 5, 5)"
   ]
  },
  {
   "cell_type": "code",
   "execution_count": 10,
   "metadata": {
    "collapsed": false
   },
   "outputs": [
    {
     "data": {
      "text/html": [
       "<div>\n",
       "<style scoped>\n",
       "    .dataframe tbody tr th:only-of-type {\n",
       "        vertical-align: middle;\n",
       "    }\n",
       "\n",
       "    .dataframe tbody tr th {\n",
       "        vertical-align: top;\n",
       "    }\n",
       "\n",
       "    .dataframe thead th {\n",
       "        text-align: right;\n",
       "    }\n",
       "</style>\n",
       "<table border=\"1\" class=\"dataframe\">\n",
       "  <thead>\n",
       "    <tr style=\"text-align: right;\">\n",
       "      <th></th>\n",
       "      <th>full degree for left polynomial</th>\n",
       "      <th>full degree for right polynomial</th>\n",
       "      <th>lcm degree</th>\n",
       "      <th>lt degree for left polynomial</th>\n",
       "      <th>lt degree for right polynomial</th>\n",
       "      <th>max degree by variable for left polynomial</th>\n",
       "      <th>max degree by variable for right polynomial</th>\n",
       "      <th>max degree of generators</th>\n",
       "      <th>max number of monomials in generators</th>\n",
       "      <th>min degree by variable for left polynomial</th>\n",
       "      <th>min degree by variable for right polynomial</th>\n",
       "      <th>min degree of generators</th>\n",
       "      <th>min number of monomials in generators</th>\n",
       "      <th>number of generators</th>\n",
       "      <th>number of monomials for left polynomial</th>\n",
       "      <th>number of monomials for right polynomial</th>\n",
       "      <th>number of variables for left polynomial</th>\n",
       "      <th>number of variables for right polynomial</th>\n",
       "      <th>number of variables in parent ring</th>\n",
       "      <th>should be taken</th>\n",
       "    </tr>\n",
       "  </thead>\n",
       "  <tbody>\n",
       "    <tr>\n",
       "      <th>0</th>\n",
       "      <td>1</td>\n",
       "      <td>2</td>\n",
       "      <td>2</td>\n",
       "      <td>1</td>\n",
       "      <td>2</td>\n",
       "      <td>1</td>\n",
       "      <td>2</td>\n",
       "      <td>4</td>\n",
       "      <td>5</td>\n",
       "      <td>1</td>\n",
       "      <td>1</td>\n",
       "      <td>1</td>\n",
       "      <td>4</td>\n",
       "      <td>4</td>\n",
       "      <td>4</td>\n",
       "      <td>4</td>\n",
       "      <td>3</td>\n",
       "      <td>3</td>\n",
       "      <td>3</td>\n",
       "      <td>1</td>\n",
       "    </tr>\n",
       "    <tr>\n",
       "      <th>1</th>\n",
       "      <td>1</td>\n",
       "      <td>4</td>\n",
       "      <td>4</td>\n",
       "      <td>1</td>\n",
       "      <td>4</td>\n",
       "      <td>1</td>\n",
       "      <td>4</td>\n",
       "      <td>4</td>\n",
       "      <td>5</td>\n",
       "      <td>1</td>\n",
       "      <td>1</td>\n",
       "      <td>1</td>\n",
       "      <td>4</td>\n",
       "      <td>4</td>\n",
       "      <td>4</td>\n",
       "      <td>5</td>\n",
       "      <td>3</td>\n",
       "      <td>3</td>\n",
       "      <td>3</td>\n",
       "      <td>1</td>\n",
       "    </tr>\n",
       "    <tr>\n",
       "      <th>2</th>\n",
       "      <td>3</td>\n",
       "      <td>2</td>\n",
       "      <td>4</td>\n",
       "      <td>3</td>\n",
       "      <td>2</td>\n",
       "      <td>3</td>\n",
       "      <td>2</td>\n",
       "      <td>4</td>\n",
       "      <td>5</td>\n",
       "      <td>1</td>\n",
       "      <td>1</td>\n",
       "      <td>1</td>\n",
       "      <td>4</td>\n",
       "      <td>4</td>\n",
       "      <td>5</td>\n",
       "      <td>4</td>\n",
       "      <td>3</td>\n",
       "      <td>3</td>\n",
       "      <td>3</td>\n",
       "      <td>1</td>\n",
       "    </tr>\n",
       "    <tr>\n",
       "      <th>3</th>\n",
       "      <td>3</td>\n",
       "      <td>4</td>\n",
       "      <td>4</td>\n",
       "      <td>3</td>\n",
       "      <td>4</td>\n",
       "      <td>3</td>\n",
       "      <td>4</td>\n",
       "      <td>4</td>\n",
       "      <td>5</td>\n",
       "      <td>1</td>\n",
       "      <td>1</td>\n",
       "      <td>1</td>\n",
       "      <td>4</td>\n",
       "      <td>4</td>\n",
       "      <td>5</td>\n",
       "      <td>5</td>\n",
       "      <td>3</td>\n",
       "      <td>3</td>\n",
       "      <td>3</td>\n",
       "      <td>1</td>\n",
       "    </tr>\n",
       "    <tr>\n",
       "      <th>4</th>\n",
       "      <td>4</td>\n",
       "      <td>2</td>\n",
       "      <td>4</td>\n",
       "      <td>4</td>\n",
       "      <td>2</td>\n",
       "      <td>4</td>\n",
       "      <td>2</td>\n",
       "      <td>4</td>\n",
       "      <td>5</td>\n",
       "      <td>1</td>\n",
       "      <td>1</td>\n",
       "      <td>1</td>\n",
       "      <td>4</td>\n",
       "      <td>4</td>\n",
       "      <td>5</td>\n",
       "      <td>4</td>\n",
       "      <td>3</td>\n",
       "      <td>3</td>\n",
       "      <td>3</td>\n",
       "      <td>1</td>\n",
       "    </tr>\n",
       "  </tbody>\n",
       "</table>\n",
       "</div>"
      ]
     },
     "execution_count": 10,
     "metadata": {
     },
     "output_type": "execute_result"
    }
   ],
   "source": [
    "df_newstrat.head()"
   ]
  },
  {
   "cell_type": "markdown",
   "metadata": {
    "collapsed": false
   },
   "source": [
    "Посмотрим, насколько сбалансированы классы пар."
   ]
  },
  {
   "cell_type": "code",
   "execution_count": 11,
   "metadata": {
    "collapsed": false
   },
   "outputs": [
    {
     "data": {
      "text/plain": [
       "0    5149\n",
       "1    4854\n",
       "Name: should be taken, dtype: int64"
      ]
     },
     "execution_count": 11,
     "metadata": {
     },
     "output_type": "execute_result"
    }
   ],
   "source": [
    "df_newstrat['should be taken'].value_counts()"
   ]
  },
  {
   "cell_type": "markdown",
   "metadata": {
    "collapsed": false
   },
   "source": [
    "Видно, что нет высокого преобладания одного класса над другим, и это хорошо, потому что классификаторы тогда не могут настроиться на доминирующий класс."
   ]
  },
  {
   "cell_type": "code",
   "execution_count": 12,
   "metadata": {
    "collapsed": false
   },
   "outputs": [
    {
     "data": {
      "text/html": [
       "<div>\n",
       "<style scoped>\n",
       "    .dataframe tbody tr th:only-of-type {\n",
       "        vertical-align: middle;\n",
       "    }\n",
       "\n",
       "    .dataframe tbody tr th {\n",
       "        vertical-align: top;\n",
       "    }\n",
       "\n",
       "    .dataframe thead th {\n",
       "        text-align: right;\n",
       "    }\n",
       "</style>\n",
       "<table border=\"1\" class=\"dataframe\">\n",
       "  <thead>\n",
       "    <tr style=\"text-align: right;\">\n",
       "      <th></th>\n",
       "      <th>full degree for left polynomial</th>\n",
       "      <th>full degree for right polynomial</th>\n",
       "      <th>lcm degree</th>\n",
       "      <th>lt degree for left polynomial</th>\n",
       "      <th>lt degree for right polynomial</th>\n",
       "      <th>max degree by variable for left polynomial</th>\n",
       "      <th>max degree by variable for right polynomial</th>\n",
       "      <th>max degree of generators</th>\n",
       "      <th>max number of monomials in generators</th>\n",
       "      <th>min degree by variable for left polynomial</th>\n",
       "      <th>min degree by variable for right polynomial</th>\n",
       "      <th>min degree of generators</th>\n",
       "      <th>min number of monomials in generators</th>\n",
       "      <th>number of generators</th>\n",
       "      <th>number of monomials for left polynomial</th>\n",
       "      <th>number of monomials for right polynomial</th>\n",
       "      <th>number of variables for left polynomial</th>\n",
       "      <th>number of variables for right polynomial</th>\n",
       "      <th>number of variables in parent ring</th>\n",
       "    </tr>\n",
       "  </thead>\n",
       "  <tbody>\n",
       "    <tr>\n",
       "      <th>0</th>\n",
       "      <td>1</td>\n",
       "      <td>2</td>\n",
       "      <td>2</td>\n",
       "      <td>1</td>\n",
       "      <td>2</td>\n",
       "      <td>1</td>\n",
       "      <td>2</td>\n",
       "      <td>4</td>\n",
       "      <td>5</td>\n",
       "      <td>1</td>\n",
       "      <td>1</td>\n",
       "      <td>1</td>\n",
       "      <td>4</td>\n",
       "      <td>4</td>\n",
       "      <td>4</td>\n",
       "      <td>4</td>\n",
       "      <td>3</td>\n",
       "      <td>3</td>\n",
       "      <td>3</td>\n",
       "    </tr>\n",
       "    <tr>\n",
       "      <th>1</th>\n",
       "      <td>1</td>\n",
       "      <td>4</td>\n",
       "      <td>4</td>\n",
       "      <td>1</td>\n",
       "      <td>4</td>\n",
       "      <td>1</td>\n",
       "      <td>4</td>\n",
       "      <td>4</td>\n",
       "      <td>5</td>\n",
       "      <td>1</td>\n",
       "      <td>1</td>\n",
       "      <td>1</td>\n",
       "      <td>4</td>\n",
       "      <td>4</td>\n",
       "      <td>4</td>\n",
       "      <td>5</td>\n",
       "      <td>3</td>\n",
       "      <td>3</td>\n",
       "      <td>3</td>\n",
       "    </tr>\n",
       "    <tr>\n",
       "      <th>2</th>\n",
       "      <td>3</td>\n",
       "      <td>2</td>\n",
       "      <td>4</td>\n",
       "      <td>3</td>\n",
       "      <td>2</td>\n",
       "      <td>3</td>\n",
       "      <td>2</td>\n",
       "      <td>4</td>\n",
       "      <td>5</td>\n",
       "      <td>1</td>\n",
       "      <td>1</td>\n",
       "      <td>1</td>\n",
       "      <td>4</td>\n",
       "      <td>4</td>\n",
       "      <td>5</td>\n",
       "      <td>4</td>\n",
       "      <td>3</td>\n",
       "      <td>3</td>\n",
       "      <td>3</td>\n",
       "    </tr>\n",
       "    <tr>\n",
       "      <th>3</th>\n",
       "      <td>3</td>\n",
       "      <td>4</td>\n",
       "      <td>4</td>\n",
       "      <td>3</td>\n",
       "      <td>4</td>\n",
       "      <td>3</td>\n",
       "      <td>4</td>\n",
       "      <td>4</td>\n",
       "      <td>5</td>\n",
       "      <td>1</td>\n",
       "      <td>1</td>\n",
       "      <td>1</td>\n",
       "      <td>4</td>\n",
       "      <td>4</td>\n",
       "      <td>5</td>\n",
       "      <td>5</td>\n",
       "      <td>3</td>\n",
       "      <td>3</td>\n",
       "      <td>3</td>\n",
       "    </tr>\n",
       "    <tr>\n",
       "      <th>4</th>\n",
       "      <td>4</td>\n",
       "      <td>2</td>\n",
       "      <td>4</td>\n",
       "      <td>4</td>\n",
       "      <td>2</td>\n",
       "      <td>4</td>\n",
       "      <td>2</td>\n",
       "      <td>4</td>\n",
       "      <td>5</td>\n",
       "      <td>1</td>\n",
       "      <td>1</td>\n",
       "      <td>1</td>\n",
       "      <td>4</td>\n",
       "      <td>4</td>\n",
       "      <td>5</td>\n",
       "      <td>4</td>\n",
       "      <td>3</td>\n",
       "      <td>3</td>\n",
       "      <td>3</td>\n",
       "    </tr>\n",
       "  </tbody>\n",
       "</table>\n",
       "</div>"
      ]
     },
     "execution_count": 12,
     "metadata": {
     },
     "output_type": "execute_result"
    }
   ],
   "source": [
    "df_newstrat['should be taken'] = np.where(df_newstrat['should be taken'] == 1, 1, 0)\n",
    "y_feat = df_newstrat['should be taken']\n",
    "X = df_newstrat.drop('should be taken', axis = 1)\n",
    "X.head()"
   ]
  },
  {
   "cell_type": "markdown",
   "metadata": {
    "collapsed": false
   },
   "source": [
    "Посмотрим на градацию важности имеющихся признаков по версии случайного леса."
   ]
  },
  {
   "cell_type": "code",
   "execution_count": 13,
   "metadata": {
    "collapsed": false
   },
   "outputs": [
    {
     "name": "stdout",
     "output_type": "stream",
     "text": [
      "                                             importance\n",
      "feature                                                \n",
      "number of monomials for left polynomial           0.209\n",
      "min number of monomials in generators             0.203\n",
      "number of generators                              0.136\n",
      "max degree of generators                          0.077\n",
      "max number of monomials in generators             0.067\n",
      "min degree of generators                          0.066\n",
      "number of monomials for right polynomial          0.044\n",
      "min degree by variable for left polynomial        0.034\n",
      "lcm degree                                        0.031\n",
      "max degree by variable for left polynomial        0.030\n",
      "min degree by variable for right polynomial       0.018\n",
      "lt degree for left polynomial                     0.016\n",
      "lt degree for right polynomial                    0.016\n",
      "full degree for right polynomial                  0.016\n",
      "full degree for left polynomial                   0.015\n",
      "max degree by variable for right polynomial       0.013\n",
      "number of variables for left polynomial           0.004\n",
      "number of variables in parent ring                0.004\n",
      "number of variables for right polynomial          0.003\n"
     ]
    },
    {
     "data": {
      "image/png": "[encoded data removed]"
     },
     "execution_count": 13,
     "metadata": {
     },
     "output_type": "execute_result"
    }
   ],
   "source": [
    "GetFeatureImportances(X, y_feat)"
   ]
  },
  {
   "cell_type": "markdown",
   "metadata": {
    "collapsed": false
   },
   "source": [
    "Интересно, что наиболее важными оказываются признаки идеала. А из признаков пары важнее оказываются признаки для левого полинома, чем признаки для правого.\n",
    "\n",
    "Теперь обучим и посмотрим на соответствующие метрики для двух классификаторов: SVM и Random Forest (разделение выборки на тестовую и обучающую, а также само обучение, происходят внутри TrainAndShowMetrics)."
   ]
  },
  {
   "cell_type": "markdown",
   "metadata": {
    "collapsed": false
   },
   "source": [
    "### SVM"
   ]
  },
  {
   "cell_type": "code",
   "execution_count": 14,
   "metadata": {
    "collapsed": false
   },
   "outputs": [
    {
     "name": "stdout",
     "output_type": "stream",
     "text": [
      "Classifier:\n",
      "\n",
      "SVC(C=1.0, cache_size=200, class_weight=None, coef0=0.0,\n",
      "  decision_function_shape='ovr', degree=3, gamma='auto', kernel='rbf',\n",
      "  max_iter=-1, probability=True, random_state=None, shrinking=True,\n",
      "  tol=0.001, verbose=False)\n",
      "\n",
      "\n"
     ]
    },
    {
     "name": "stdout",
     "output_type": "stream",
     "text": [
      "accuracy = 0.952019192323 \n",
      "\n",
      "             precision    recall  f1-score   support\n",
      "\n",
      " bad sPairs       0.97      0.93      0.95      1300\n",
      "good sPairs       0.93      0.97      0.95      1201\n",
      "\n",
      "avg / total       0.95      0.95      0.95      2501\n",
      "\n"
     ]
    },
    {
     "data": {
      "image/png": "[encoded data removed]"
     },
     "execution_count": 14,
     "metadata": {
     },
     "output_type": "execute_result"
    },
    {
     "name": "stdout",
     "output_type": "stream",
     "text": [
      "AUC-ROC: 0.98760391981\n"
     ]
    },
    {
     "data": {
      "image/png": "[encoded data removed]"
     },
     "execution_count": 14,
     "metadata": {
     },
     "output_type": "execute_result"
    },
    {
     "name": "stdout",
     "output_type": "stream",
     "text": [
      "AUC-PR:  0.982438163802\n"
     ]
    }
   ],
   "source": [
    "clf = SVC(kernel = 'rbf', probability = True)\n",
    "\n",
    "TrainAndShowMetrics(X, y_feat, 'bad sPairs', 'good sPairs', clf)"
   ]
  },
  {
   "cell_type": "markdown",
   "metadata": {
    "collapsed": false
   },
   "source": [
    "Показатели высокие. "
   ]
  },
  {
   "cell_type": "markdown",
   "metadata": {
    "collapsed": false
   },
   "source": [
    "### Random Forest"
   ]
  },
  {
   "cell_type": "code",
   "execution_count": 15,
   "metadata": {
    "collapsed": false
   },
   "outputs": [
    {
     "name": "stdout",
     "output_type": "stream",
     "text": [
      "Classifier:\n",
      "\n",
      "RandomForestClassifier(bootstrap=True, class_weight=None, criterion='gini',\n",
      "            max_depth=None, max_features='auto', max_leaf_nodes=None,\n",
      "            min_impurity_decrease=0.0, min_impurity_split=None,\n",
      "            min_samples_leaf=1, min_samples_split=2,\n",
      "            min_weight_fraction_leaf=0.0, n_estimators=200, n_jobs=-1,\n",
      "            oob_score=False, random_state=42, verbose=0, warm_start=False)\n",
      "\n",
      "\n"
     ]
    },
    {
     "name": "stdout",
     "output_type": "stream",
     "text": [
      "accuracy = 0.958016793283 \n",
      "\n",
      "             precision    recall  f1-score   support\n",
      "\n",
      " bad sPairs       0.97      0.95      0.96      1300\n",
      "good sPairs       0.94      0.97      0.96      1201\n",
      "\n",
      "avg / total       0.96      0.96      0.96      2501\n",
      "\n"
     ]
    },
    {
     "data": {
      "image/png": "[encoded data removed]"
     },
     "execution_count": 15,
     "metadata": {
     },
     "output_type": "execute_result"
    },
    {
     "name": "stdout",
     "output_type": "stream",
     "text": [
      "AUC-ROC: 0.993102862999\n"
     ]
    },
    {
     "data": {
      "image/png": "[encoded data removed]"
     },
     "execution_count": 15,
     "metadata": {
     },
     "output_type": "execute_result"
    },
    {
     "name": "stdout",
     "output_type": "stream",
     "text": [
      "AUC-PR:  0.991704377861\n"
     ]
    }
   ],
   "source": [
    "clf = RandomForestClassifier(n_estimators = 200, n_jobs = -1, random_state = 42)\n",
    "\n",
    "TrainAndShowMetrics(X, y_feat, 'bad sPairs', 'good sPairs', clf)"
   ]
  },
  {
   "cell_type": "markdown",
   "metadata": {
    "collapsed": false
   },
   "source": [
    "Показатели Random Forest лучше. Однако, как оказалось в дальнейшем, он жутко медленно делает предсказания, хоть и очень точно. Использовать его не получится."
   ]
  },
  {
   "cell_type": "markdown",
   "metadata": {
    "collapsed": false
   },
   "source": [
    "#### Использование стратегии в алгоритиме"
   ]
  },
  {
   "cell_type": "markdown",
   "metadata": {
    "collapsed": false
   },
   "source": [
    "Будем выбирать S-пары, основываясь на предсказании классификатора. В функцию SelectionFunctionMachineLearning(pairs, basis, clf) передаём пары, текущий базис и классификатор. Сначала формируем признаки для каждой пары, потом формируем из них датасет и просим классификатор предсказать, нужна эта пара или нет. В соответствии с полученным вектором предсказаний берём пары (1 -- берём, 0 -- не берём). Если вдруг классификатор решил не брать ни одной пары, то проверяем, является ли текущий базис базисом Грёбнера. Если да, то останавливаемся. Если нет, то просто берём все имеющиеся пары (не выбираем из них ничего)."
   ]
  },
  {
   "cell_type": "code",
   "execution_count": 46,
   "metadata": {
    "collapsed": false
   },
   "outputs": [
   ],
   "source": [
    "def SelectionFunctionMachineLearning(pairs, basis, clf):\n",
    "    selPairs = []\n",
    "    allFeatures = []\n",
    "    for pair in pairs:\n",
    "        featureVector = {}\n",
    "        GetPairFeatures(pair, basis, featureVector)\n",
    "        allFeatures.append(featureVector)\n",
    "\n",
    "    data = MakeDataSet(allFeatures)\n",
    "    pred = clf.predict(data)\n",
    "    for i in range(len(pairs)):\n",
    "        if pred[i] == 1:\n",
    "            selPairs.append(pairs[i])\n",
    "    return selPairs\n",
    "\n",
    "def F4_ML(polynomials, strategy, clf):\n",
    "    (basis, pairs) = Update([], [], polynomials)\n",
    "    howManySteps = 0\n",
    "\n",
    "    while len(pairs) > 0:\n",
    "        howManySteps += 1\n",
    "\n",
    "        if (strategy == 'normal'):\n",
    "            pairsSel = SelectionFunctionNormal(pairs)\n",
    "        elif (strategy == 'ML'):\n",
    "            pairsSel = SelectionFunctionMachineLearning(pairs, basis, clf)\n",
    "            if len(pairsSel) == 0:\n",
    "                if is_groebner_basis(basis):\n",
    "                    return ReductionOfBasis(basis), howManySteps\n",
    "                else:\n",
    "                    # print \"empty set\"\n",
    "                    pairsSel = SelectionFunctionAll(pairs)\n",
    "        else:\n",
    "            pairsSel = SelectionFunctionAll(pairs)\n",
    "        pairs = list(set(pairs) - set(pairsSel))\n",
    "\n",
    "        Ld = set()\n",
    "        for pair in pairsSel:\n",
    "            Ld.add((pair[1], pair[2]))\n",
    "            Ld.add((pair[3], pair[4]))\n",
    "\n",
    "        new = Reduction(Ld, basis)\n",
    "        (basis, pairs) = Update(basis, pairs, new)\n",
    "\n",
    "    return ReductionOfBasis(basis), howManySteps"
   ]
  },
  {
   "cell_type": "markdown",
   "metadata": {
    "collapsed": false
   },
   "source": [
    "Запустим алгоритм с новой стратегией и с нормальной. В выводе алгоритма вторая цифра после базиса -- число итераций."
   ]
  },
  {
   "cell_type": "code",
   "execution_count": 32,
   "metadata": {
    "collapsed": false
   },
   "outputs": [
    {
     "name": "stdout",
     "output_type": "stream",
     "text": [
      "\n",
      "\n",
      "EXAMPLE 1\n",
      "\n",
      "The initial system F = [x + y + z, x*y + x*z + y*z, x*y*z - u^3]\n",
      "\n",
      "Output of F4:\n",
      "ML:  ([x + y + z, y^2 + y*z + z^2, z^3 - u^3], 3)\n",
      "Normal:  ([x + y + z, y^2 + y*z + z^2, z^3 - u^3], 4)\n",
      "\n",
      "\n",
      "EXAMPLE 2\n",
      "\n",
      "The initial system F = [x*y - z^2 - z, x^2 - y*z - x, -y^2 + x*z - y]\n",
      "\n",
      "Output of F4:\n",
      "ML:  ([y*z, x*z - z^2 - z, y^2 - z^2 + y - z, x*y - z^2 - z, x^2 - x, z^3 + z^2], 3)\n",
      "Normal:  ([y*z, x*z - z^2 - z, y^2 - z^2 + y - z, x*y - z^2 - z, x^2 - x, z^3 + z^2], 3)\n",
      "\n",
      "\n",
      "EXAMPLE 3\n",
      "\n",
      "The initial system F = [4*x4, -2*x2^2 - 4*x1*x3 + 6*x4^2, 4*x1^2*x2 + 4*x2*x3^2 - 4*x2^2*x4 - 8*x1*x3*x4 + 4*x4^3, -x1^4 + x2^4 - 4*x1*x2^2*x3 + 2*x1^2*x3^2 - x3^4 + 4*x1^2*x2*x4 + 4*x2*x3^2*x4 - 2*x2^2*x4^2 - 4*x1*x3*x4^2 + x4^4]\n",
      "\n",
      "Output of F4:\n",
      "ML:  empty set\n",
      "([x4, x2^2 + 2*x1*x3, x1^2*x2 + x2*x3^2, x1^3*x3 + x1*x3^3, x1^4 - 14*x1^2*x3^2 + x3^4, x2*x3^4, x1^2*x3^3 - 1/15*x3^5, x1*x3^5, x3^7], 4)\n",
      "Normal: "
     ]
    },
    {
     "name": "stdout",
     "output_type": "stream",
     "text": [
      " ([x4, x2^2 + 2*x1*x3, x1^2*x2 + x2*x3^2, x1^3*x3 + x1*x3^3, x1^4 - 14*x1^2*x3^2 + x3^4, x2*x3^4, x1^2*x3^3 - 1/15*x3^5, x1*x3^5, x3^7], 7)\n"
     ]
    }
   ],
   "source": [
    "# clf = RandomForestClassifier(n_estimators = 200, n_jobs = -1, random_state = 42)\n",
    "clf = SVC(kernel = 'rbf', probability = True)\n",
    "clf.fit(X, y_feat)\n",
    "\n",
    "print \"\\n\\nEXAMPLE 1\\n\"\n",
    "R.<x, y, z, u> = PolynomialRing(QQ, 4, order = \"degrevlex\")\n",
    "F = [x + y + z, x * y + x * z + y * z, x * y * z - u ^ 3]\n",
    "print \"The initial system F =\", F\n",
    "print \"\\nOutput of F4:\"\n",
    "print \"ML: \", F4_ML(F, 'ML', clf)\n",
    "print \"Normal: \", F4_ML(F, 'normal', clf)\n",
    "\n",
    "print \"\\n\\nEXAMPLE 2\\n\"\n",
    "f = x*y - z^2 - z\n",
    "g = x^2 - x - y*z\n",
    "h = x*z - y^2 - y\n",
    "F = [f, g, h]\n",
    "print \"The initial system F =\", F\n",
    "print \"\\nOutput of F4:\"\n",
    "print \"ML: \", F4_ML(F, 'ML', clf)\n",
    "print \"Normal: \", F4_ML(F, 'normal', clf)\n",
    "\n",
    "print \"\\n\\nEXAMPLE 3\\n\"\n",
    "R.<x1, x2, x3, x4> = PolynomialRing(QQ, 4)\n",
    "F = [4*x4, -2*x2^2 - 4*x1*x3 + 6*x4^2, 4*x1^2*x2 + 4*x2*x3^2 - 4*x2^2*x4 - 8*x1*x3*x4 + 4*x4^3, -x1^4 + x2^4 - 4*x1*x2^2*x3 + 2*x1^2*x3^2 - x3^4 + 4*x1^2*x2*x4 + 4*x2*x3^2*x4 - 2*x2^2*x4^2 - 4*x1*x3*x4^2 + x4^4]\n",
    "print \"The initial system F =\", F\n",
    "print \"\\nOutput of F4:\"\n",
    "print \"ML: \", F4_ML(F, 'ML', clf)\n",
    "print \"Normal: \", F4_ML(F, 'normal', clf)"
   ]
  },
  {
   "cell_type": "markdown",
   "metadata": {
    "collapsed": false
   },
   "source": [
    "Теперь сравним получившуюся стратегию с normal и all по числу итераций и времени."
   ]
  },
  {
   "cell_type": "code",
   "execution_count": 17,
   "metadata": {
    "collapsed": false
   },
   "outputs": [
   ],
   "source": [
    "def LaunchF4_iterations(n, maxVar, maxElem, maxDeg, stratOne, stratTwo, clf):\n",
    "    numOfIterations = [[], []]\n",
    "\n",
    "    for i in range (n):\n",
    "        Print(n, i)\n",
    "        generators = GetRandomGeneratorsForIdeal(maxVar, maxElem, maxDeg)\n",
    "        while 0 in generators:\n",
    "            generators = GetRandomGeneratorsForIdeal(maxVar, maxElem, maxDeg)\n",
    "\n",
    "        basis, numOfStepsNormal = F4_ML(generators, stratOne, clf)\n",
    "        numOfIterations[0].append(numOfStepsNormal)\n",
    "\n",
    "        basis, numOfStepsML = F4_ML(generators, stratTwo, clf)\n",
    "        numOfIterations[1].append(numOfStepsML)\n",
    "\n",
    "    return numOfIterations"
   ]
  },
  {
   "cell_type": "code",
   "execution_count": 18,
   "metadata": {
    "collapsed": false
   },
   "outputs": [
   ],
   "source": [
    "def DrawDiagramForIterations(n, maxVar, maxElem, maxDeg, stratOne, stratTwo, clf):\n",
    "    strategies = [stratOne, stratTwo]\n",
    "    numOfIterations =  LaunchF4_iterations(n, maxVar, maxElem, maxDeg, stratOne, stratTwo, clf)\n",
    "    indices = [i for i in range(n)]\n",
    "\n",
    "    plt.figure(figsize=(12, 5))\n",
    "\n",
    "    for i in range (2):\n",
    "        plt.plot(indices, numOfIterations[i], label = '{}, sum of iterations = {}'.format(strategies[i], sum(numOfIterations[i])))\n",
    "\n",
    "    plt.title('Iterations for {} and {} strategies'.format(stratOne, stratTwo), fontsize = 16, y = 1.02)\n",
    "    plt.xlabel('Number of experiment')\n",
    "    plt.ylabel('Number of iterations')\n",
    "    plt.legend(bbox_to_anchor=(1.01, 1), loc=2)"
   ]
  },
  {
   "cell_type": "markdown",
   "metadata": {
    "collapsed": false
   },
   "source": [
    "Нарисуем графики с числом итераций при сравнении стратегии ML с normal и all."
   ]
  },
  {
   "cell_type": "code",
   "execution_count": 19,
   "metadata": {
    "collapsed": false
   },
   "outputs": [
    {
     "name": "stdout",
     "output_type": "stream",
     "text": [
      "Object No:  0\n"
     ]
    },
    {
     "name": "stdout",
     "output_type": "stream",
     "text": [
      "Object No:  10\n",
      "empty set\n",
      "Object No:  "
     ]
    },
    {
     "name": "stdout",
     "output_type": "stream",
     "text": [
      "20\n",
      "empty set\n",
      "empty set\n",
      "Object No:  30\n"
     ]
    },
    {
     "name": "stdout",
     "output_type": "stream",
     "text": [
      "empty set\n"
     ]
    },
    {
     "name": "stdout",
     "output_type": "stream",
     "text": [
      "Object No:  40\n"
     ]
    },
    {
     "name": "stdout",
     "output_type": "stream",
     "text": [
      "empty set\n"
     ]
    },
    {
     "name": "stdout",
     "output_type": "stream",
     "text": [
      "Object No:  50\n"
     ]
    },
    {
     "name": "stdout",
     "output_type": "stream",
     "text": [
      "empty set\n"
     ]
    },
    {
     "name": "stdout",
     "output_type": "stream",
     "text": [
      "empty set\n"
     ]
    },
    {
     "name": "stdout",
     "output_type": "stream",
     "text": [
      "Object No:  60\n"
     ]
    },
    {
     "name": "stdout",
     "output_type": "stream",
     "text": [
      "empty set\n",
      "empty set\n",
      "empty set\n"
     ]
    },
    {
     "name": "stdout",
     "output_type": "stream",
     "text": [
      "empty set\n"
     ]
    },
    {
     "name": "stdout",
     "output_type": "stream",
     "text": [
      "empty set\n"
     ]
    },
    {
     "name": "stdout",
     "output_type": "stream",
     "text": [
      "empty set\n",
      "empty set\n"
     ]
    },
    {
     "name": "stdout",
     "output_type": "stream",
     "text": [
      "Object No:  70\n"
     ]
    },
    {
     "name": "stdout",
     "output_type": "stream",
     "text": [
      "empty set\n"
     ]
    },
    {
     "name": "stdout",
     "output_type": "stream",
     "text": [
      "empty set\n"
     ]
    },
    {
     "name": "stdout",
     "output_type": "stream",
     "text": [
      "empty set\n"
     ]
    },
    {
     "name": "stdout",
     "output_type": "stream",
     "text": [
      "empty set\n"
     ]
    },
    {
     "name": "stdout",
     "output_type": "stream",
     "text": [
      "empty set\n"
     ]
    },
    {
     "name": "stdout",
     "output_type": "stream",
     "text": [
      "empty set\n"
     ]
    },
    {
     "name": "stdout",
     "output_type": "stream",
     "text": [
      "empty set\n"
     ]
    },
    {
     "name": "stdout",
     "output_type": "stream",
     "text": [
      "Object No:  80\n"
     ]
    },
    {
     "name": "stdout",
     "output_type": "stream",
     "text": [
      "Object No:  90\n"
     ]
    },
    {
     "name": "stdout",
     "output_type": "stream",
     "text": [
      "empty set\n",
      "CPU times: user 56.7 s, sys: 303 ms, total: 57 s\n",
      "Wall time: 1min 4s\n"
     ]
    },
    {
     "data": {
      "image/png": "[encoded data removed]"
     },
     "execution_count": 19,
     "metadata": {
     },
     "output_type": "execute_result"
    }
   ],
   "source": [
    "clf = SVC(kernel = 'rbf', probability = True)\n",
    "clf.fit(X, y_feat)\n",
    "\n",
    "%time DrawDiagramForIterations(100, 4, 5, 5, 'normal', 'ML', clf)"
   ]
  },
  {
   "cell_type": "markdown",
   "metadata": {
    "collapsed": false
   },
   "source": [
    "Видно, что Normal делает больше итераций, чем ML."
   ]
  },
  {
   "cell_type": "code",
   "execution_count": 20,
   "metadata": {
    "collapsed": false
   },
   "outputs": [
    {
     "name": "stdout",
     "output_type": "stream",
     "text": [
      "Object No:  0\n"
     ]
    },
    {
     "name": "stdout",
     "output_type": "stream",
     "text": [
      "empty set\n",
      "Object No:  10\n"
     ]
    },
    {
     "name": "stdout",
     "output_type": "stream",
     "text": [
      "empty set\n"
     ]
    },
    {
     "name": "stdout",
     "output_type": "stream",
     "text": [
      "Object No:  20\n"
     ]
    },
    {
     "name": "stdout",
     "output_type": "stream",
     "text": [
      "Object No:  30\n"
     ]
    },
    {
     "name": "stdout",
     "output_type": "stream",
     "text": [
      "Object No:  40\n"
     ]
    },
    {
     "name": "stdout",
     "output_type": "stream",
     "text": [
      "empty set\n"
     ]
    },
    {
     "name": "stdout",
     "output_type": "stream",
     "text": [
      "empty set\n",
      "Object No:  50\n"
     ]
    },
    {
     "name": "stdout",
     "output_type": "stream",
     "text": [
      "empty set\n",
      "Object No:  60\n"
     ]
    },
    {
     "name": "stdout",
     "output_type": "stream",
     "text": [
      "empty set\n"
     ]
    },
    {
     "name": "stdout",
     "output_type": "stream",
     "text": [
      "Object No:  70\n",
      "empty set\n"
     ]
    },
    {
     "name": "stdout",
     "output_type": "stream",
     "text": [
      "empty set\n"
     ]
    },
    {
     "name": "stdout",
     "output_type": "stream",
     "text": [
      "Object No:  80\n",
      "empty set\n"
     ]
    },
    {
     "name": "stdout",
     "output_type": "stream",
     "text": [
      "empty set\n"
     ]
    },
    {
     "name": "stdout",
     "output_type": "stream",
     "text": [
      "Object No:  90\n"
     ]
    },
    {
     "name": "stdout",
     "output_type": "stream",
     "text": [
      "CPU times: user 41.8 s, sys: 207 ms, total: 42 s\n",
      "Wall time: 45.9 s\n"
     ]
    },
    {
     "data": {
      "image/png": "[encoded data removed]"
     },
     "execution_count": 20,
     "metadata": {
     },
     "output_type": "execute_result"
    }
   ],
   "source": [
    "# clf = SVC(kernel = 'rbf', probability = True)\n",
    "# clf.fit(X, y_feat)\n",
    "\n",
    "%time DrawDiagramForIterations(100, 4, 5, 5, 'all', 'ML', clf)"
   ]
  },
  {
   "cell_type": "markdown",
   "metadata": {
    "collapsed": false
   },
   "source": [
    "А вот стратегия all побеждает ML по числу итераций.\n",
    "\n",
    "Сравним стратегии по времени. Сначала сравним ML и normal."
   ]
  },
  {
   "cell_type": "code",
   "execution_count": 47,
   "metadata": {
    "collapsed": false
   },
   "outputs": [
   ],
   "source": [
    "from time import time\n",
    "\n",
    "def PrintResultsForStrategies(times, stratOne, stratTwo):\n",
    "    print \"\\n\"\n",
    "    print \"Mean time:\"\n",
    "    print stratOne, \": \", np.mean(times[0]), \", \", stratTwo, \": \", np.mean(times[1])\n",
    "\n",
    "    # print \"\\n\"\n",
    "    print \"Max time:\"\n",
    "    print stratOne, \": \", max(times[0]), \", \", stratTwo, \": \", max(times[1])\n",
    "\n",
    "    # print \"\\n\"\n",
    "    print \"Min time:\"\n",
    "    print stratOne, \": \", min(times[0]), \", \", stratTwo, \": \", min(times[1])\n",
    "    print \"\\n\"\n",
    "\n",
    "def LaunchF4_time_ML(n, maxVar, maxElem, maxDeg, stratOne, stratTwo, clf):\n",
    "    times = [[], []]\n",
    "\n",
    "    for i in range (n):\n",
    "        Print(n, i)\n",
    "        generators = GetRandomGeneratorsForIdeal(maxVar, maxElem, maxDeg)\n",
    "        while 0 in generators:\n",
    "            generators = GetRandomGeneratorsForIdeal(maxVar, maxElem, maxDeg)\n",
    "\n",
    "        t1 = time()\n",
    "        F4_ML(generators, stratOne, clf)\n",
    "        t1 = time() - t1\n",
    "        times[0].append(t1)\n",
    "\n",
    "        t2 = time()\n",
    "        F4_ML(generators, stratTwo, clf)\n",
    "        t2 = time() - t2\n",
    "        times[1].append(t2)\n",
    "    PrintResultsForStrategies(times, stratOne, stratTwo)\n",
    "    return times\n",
    "\n",
    "def DrawDiagramForTime(n, stratOne, stratTwo, times):\n",
    "    strategies = [stratOne, stratTwo]\n",
    "    # times =  LaunchF4_time_ML(n, maxVar, maxElem, maxDeg, stratOne, stratTwo, clf)\n",
    "\n",
    "    indices = [i for i in range(n)]\n",
    "    plt.figure(figsize=(12, 5))\n",
    "\n",
    "    for i in range (2):\n",
    "        plt.plot(indices, times[i], label = '{}'.format(strategies[i]))\n",
    "\n",
    "    plt.title('Time for {} and {} strategies'.format(stratOne, stratTwo), fontsize = 16, y = 1.02)\n",
    "    plt.xlabel('Number of experiment')\n",
    "    plt.ylabel('Time')\n",
    "    plt.legend(bbox_to_anchor=(1.01, 1), loc=2)"
   ]
  },
  {
   "cell_type": "code",
   "execution_count": 48,
   "metadata": {
    "collapsed": false,
    "scrolled": true
   },
   "outputs": [
    {
     "name": "stdout",
     "output_type": "stream",
     "text": [
      "Object No:  0\n"
     ]
    },
    {
     "name": "stdout",
     "output_type": "stream",
     "text": [
      "Object No:  10\n"
     ]
    },
    {
     "name": "stdout",
     "output_type": "stream",
     "text": [
      "Object No:  20\n"
     ]
    },
    {
     "name": "stdout",
     "output_type": "stream",
     "text": [
      "Object No:  30\n"
     ]
    },
    {
     "name": "stdout",
     "output_type": "stream",
     "text": [
      "Object No:  40\n"
     ]
    },
    {
     "name": "stdout",
     "output_type": "stream",
     "text": [
      "Object No:  50\n"
     ]
    },
    {
     "name": "stdout",
     "output_type": "stream",
     "text": [
      "Object No:  60\n"
     ]
    },
    {
     "name": "stdout",
     "output_type": "stream",
     "text": [
      "Object No:  70\n"
     ]
    },
    {
     "name": "stdout",
     "output_type": "stream",
     "text": [
      "Object No:  80\n"
     ]
    },
    {
     "name": "stdout",
     "output_type": "stream",
     "text": [
      "Object No:  90\n"
     ]
    },
    {
     "name": "stdout",
     "output_type": "stream",
     "text": [
      "\n",
      "\n",
      "Mean time:\n",
      "normal :  0.0467098665237 ,  ML :  0.104044258595\n",
      "Max time:\n",
      "normal :  0.650588989258 ,  ML :  3.33159589767\n",
      "Min time:\n",
      "normal :  0.000128030776978 ,  ML :  9.01222229004e-05\n",
      "\n",
      "\n",
      "CPU times: user 13.7 s, sys: 177 ms, total: 13.8 s\n",
      "Wall time: 15.2 s\n"
     ]
    }
   ],
   "source": [
    "# clf = SVC(kernel = 'rbf', probability = True)\n",
    "# clf.fit(X, y_feat)\n",
    "%time times =  LaunchF4_time_ML(100, 4, 5, 5, 'normal', 'ML', clf)"
   ]
  },
  {
   "cell_type": "code",
   "execution_count": 49,
   "metadata": {
    "collapsed": false
   },
   "outputs": [
    {
     "data": {
      "image/png": "[encoded data removed]"
     },
     "execution_count": 49,
     "metadata": {
     },
     "output_type": "execute_result"
    }
   ],
   "source": [
    "DrawDiagramForTime(100, 'normal', 'ML', times)"
   ]
  },
  {
   "cell_type": "markdown",
   "metadata": {
    "collapsed": false
   },
   "source": [
    "Стратегия ML проигрывает по времени normal при почти всех запусках, как видно по графику и по показателям mean time, min time, max time.\n",
    "\n",
    "Теперь сравним по времени ML и all."
   ]
  },
  {
   "cell_type": "code",
   "execution_count": 50,
   "metadata": {
    "collapsed": false
   },
   "outputs": [
    {
     "name": "stdout",
     "output_type": "stream",
     "text": [
      "Object No:  0\n"
     ]
    },
    {
     "name": "stdout",
     "output_type": "stream",
     "text": [
      "Object No:  10\n"
     ]
    },
    {
     "name": "stdout",
     "output_type": "stream",
     "text": [
      "Object No:  20\n"
     ]
    },
    {
     "name": "stdout",
     "output_type": "stream",
     "text": [
      "Object No:  30\n"
     ]
    },
    {
     "name": "stdout",
     "output_type": "stream",
     "text": [
      "Object No:  40\n"
     ]
    },
    {
     "name": "stdout",
     "output_type": "stream",
     "text": [
      "Object No:  50\n"
     ]
    },
    {
     "name": "stdout",
     "output_type": "stream",
     "text": [
      "Object No:  60\n"
     ]
    },
    {
     "name": "stdout",
     "output_type": "stream",
     "text": [
      "Object No:  70\n"
     ]
    },
    {
     "name": "stdout",
     "output_type": "stream",
     "text": [
      "Object No:  80\n"
     ]
    },
    {
     "name": "stdout",
     "output_type": "stream",
     "text": [
      "Object No:  90\n"
     ]
    },
    {
     "name": "stdout",
     "output_type": "stream",
     "text": [
      "\n",
      "\n",
      "Mean time:\n",
      "all :  0.118737688065 ,  ML :  0.169333896637\n",
      "Max time:\n",
      "all :  5.64784789085 ,  ML :  9.09973311424\n",
      "Min time:\n",
      "all :  0.000171899795532 ,  ML :  0.000123977661133\n",
      "\n",
      "\n",
      "CPU times: user 26.3 s, sys: 158 ms, total: 26.5 s\n",
      "Wall time: 28.9 s\n"
     ]
    }
   ],
   "source": [
    "%time times =  LaunchF4_time_ML(100, 4, 5, 5, 'all', 'ML', clf)"
   ]
  },
  {
   "cell_type": "code",
   "execution_count": 51,
   "metadata": {
    "collapsed": false
   },
   "outputs": [
    {
     "data": {
      "image/png": "[encoded data removed]"
     },
     "execution_count": 51,
     "metadata": {
     },
     "output_type": "execute_result"
    }
   ],
   "source": [
    "DrawDiagramForTime(100, 'all', 'ML', times)"
   ]
  },
  {
   "cell_type": "markdown",
   "metadata": {
    "collapsed": false
   },
   "source": [
    "Видно, что ML проигрывает стратегии all по времени.\n",
    "\n",
    "Итак, общий итог: пока что новая стратегия выигрывают только по числу итераций у normal. По остальным параметрам пока проигрывает. Нужно думать дальше."
   ]
  },
  {
   "cell_type": "markdown",
   "metadata": {
    "collapsed": false
   },
   "source": [
    "### Дополнение: код для кросс-валидации"
   ]
  },
  {
   "cell_type": "code",
   "execution_count": 18,
   "metadata": {
    "collapsed": false
   },
   "outputs": [
   ],
   "source": [
    "def PrintResults(scores, scores_name):\n",
    "    print \"\\n\"\n",
    "    print scores_name + \" results:\", scores\n",
    "    print \"best value: \", max(scores)\n",
    "    print \"mean value: \", np.mean(scores)\n",
    "\n",
    "def CrossValidation(clf):\n",
    "    print \"Classifier: \\n\"\n",
    "    print clf\n",
    "    scores = cross_val_score(clf, X, y, cv = 5)\n",
    "    PrintResults(scores, \"accuracy\")\n",
    "\n",
    "    scoring = ['precision_macro', 'recall_macro']\n",
    "    scores = cross_validate(clf, X, y, scoring=scoring, cv=5, return_train_score=False)\n",
    "\n",
    "    PrintResults(scores['test_recall_macro'], \"recall\")\n",
    "    PrintResults(scores['test_precision_macro'], \"precision\")"
   ]
  },
  {
   "cell_type": "code",
   "execution_count": 0,
   "metadata": {
    "collapsed": false
   },
   "outputs": [
   ],
   "source": [
   ]
  }
 ],
 "metadata": {
  "kernelspec": {
   "display_name": "SageMath 8.1",
   "name": "sage-8.1"
  },
  "language_info": {
   "codemirror_mode": {
    "name": "ipython",
    "version": 2
   },
   "file_extension": ".py",
   "mimetype": "text/x-python",
   "name": "python",
   "nbconvert_exporter": "python",
   "pygments_lexer": "ipython2",
   "version": "2.7.14"
  }
 },
 "nbformat": 4,
 "nbformat_minor": 0
}