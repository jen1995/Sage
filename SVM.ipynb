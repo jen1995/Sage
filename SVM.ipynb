{
 "cells": [
  {
   "cell_type": "markdown",
   "metadata": {
    "collapsed": false
   },
   "source": [
    "### Реализация алгоритма F4 с нормальной стратегией выбора S-пар и стратегией просто выбора всех пар."
   ]
  },
  {
   "cell_type": "code",
   "execution_count": 7,
   "metadata": {
    "collapsed": false
   },
   "outputs": [
    {
     "name": "stdout",
     "output_type": "stream",
     "text": [
      "\n",
      "\n",
      "EXAMPLE 1\n",
      "\n",
      "The initial system F = [x + y + z, x*y + x*z + y*z, x*y*z - u^3]\n",
      "\n",
      "Output of F4:\n",
      "([x + y + z, y^2 + y*z + z^2, z^3 - u^3], 4)\n",
      "([x + y + z, y^2 + y*z + z^2, z^3 - u^3], 2)\n",
      "\n",
      "\n",
      "EXAMPLE 2\n",
      "\n",
      "The initial system F = [x*y - z^2 - z, x^2 - y*z - x, -y^2 + x*z - y]\n",
      "\n",
      "Output of F4:\n",
      "([y*z, x*z - z^2 - z, y^2 - z^2 + y - z, x*y - z^2 - z, x^2 - x, z^3 + z^2], 4)\n",
      "([y*z, x*z - z^2 - z, y^2 - z^2 + y - z, x*y - z^2 - z, x^2 - x, z^3 + z^2], 3)\n",
      "\n",
      "\n",
      "EXAMPLE 3\n",
      "\n",
      "The initial system F = [4*x4, -2*x2^2 - 4*x1*x3 + 6*x4^2, 4*x1^2*x2 + 4*x2*x3^2 - 4*x2^2*x4 - 8*x1*x3*x4 + 4*x4^3, -x1^4 + x2^4 - 4*x1*x2^2*x3 + 2*x1^2*x3^2 - x3^4 + 4*x1^2*x2*x4 + 4*x2*x3^2*x4 - 2*x2^2*x4^2 - 4*x1*x3*x4^2 + x4^4]\n",
      "\n",
      "Output of F4:\n",
      "([x4, x2^2 + 2*x1*x3, x1^2*x2 + x2*x3^2, x1^3*x3 + x1*x3^3, x1^4 - 14*x1^2*x3^2 + x3^4, x2*x3^4, x1^2*x3^3 - 1/15*x3^5, x1*x3^5, x3^7], 9)\n",
      "([x4, x2^2 + 2*x1*x3, x1^2*x2 + x2*x3^2, x1^3*x3 + x1*x3^3, x1^4 - 14*x1^2*x3^2 + x3^4, x2*x3^4, x1^2*x3^3 - 1/15*x3^5, x1*x3^5, x3^7], 4)\n"
     ]
    }
   ],
   "source": [
    "#  Implementation of the F4 Algorithm in Sage\n",
    "#  [1]  Jean-Charles Faugere. A new efficient algorithm for computing Groebner bases (F4). Journal of pure and applied algebra, 139(1–3):61–88, July 1999.\n",
    "#  [2]  Alessandro Giovini, Teo Mora, Gianfranco Niesi, Lorenzo Robbiano, Carlo Traverso. \"One sugar cube, please \"or Selection strategies in the Buchberger algorithm\"\".\n",
    "\n",
    "########################################\n",
    "#  Create a pair from two polynomials  #\n",
    "########################################\n",
    "#  [1] Definition 2.5, page 5\n",
    "\n",
    "def Pair(f, g):\n",
    "    try:\n",
    "        lcm = (f.lm()).lcm(g.lm())\n",
    "        return (lcm, lcm // f.lm(), f, lcm // g.lm(), g)\n",
    "    except ZeroDivisionError:\n",
    "        raise Exception()\n",
    "\n",
    "########################################\n",
    "#   Function adds new pairs to Pairs (f, g) where f belongs to new (set of polynomials),\n",
    "#   g belongs to basis (temporary basis Gr. already found up to this point)\n",
    "########################################\n",
    "\n",
    "def Update(basis, Pairs, new):\n",
    "    try:\n",
    "        basis += new\n",
    "        basis = uniq(basis)\n",
    "        for f in new:\n",
    "            for g in basis:\n",
    "                if f != g and Pair(g, f) not in Pairs:\n",
    "                    Pairs.append(Pair(f, g))\n",
    "        result = [basis, Pairs]\n",
    "        return result\n",
    "    except Exception:\n",
    "        print \"basis = \", basis\n",
    "        for elem in basis:\n",
    "            print elem.parent()\n",
    "##############################################\n",
    "#  Selection function - the normal strategy  #\n",
    "##############################################\n",
    "#  [1] function Sel, page 13\n",
    "\n",
    "def LCM(pair):\n",
    "    return pair[0]\n",
    "\n",
    "def SelectionFunctionNormal(pairs):\n",
    "    d = min([LCM(p).degree() for p in pairs])\n",
    "    dPairs = [p for p in pairs if LCM(p).degree() == d]\n",
    "    return dPairs\n",
    "\n",
    "##############################################\n",
    "#  Selection function - the sugar strategy  #\n",
    "##############################################\n",
    "#  [2] The Sugar Flavor, page 1\n",
    "\n",
    "#this is a wrong variant but I need to try with something\n",
    "\n",
    "def Sugar(pair):\n",
    "    f = pair[2]\n",
    "    g = pair[4]\n",
    "    return max([f.degree() - f.lm().degree(), g.degree() - g.lm().degree()]) + LCM(pair).degree()\n",
    "\n",
    "def SelectionFunctionSugar(pairs):\n",
    "    d = min([Sugar(p) for p in pairs])\n",
    "    dPairs = [p for p in pairs if Sugar(p) == d]\n",
    "    return dPairs\n",
    "##############################################\n",
    "#  Selection function - take all pairs  #\n",
    "##############################################\n",
    "\n",
    "def SelectionFunctionAll(pairs):\n",
    "    return pairs\n",
    "\n",
    "############################\n",
    "#  Symbolic Preprocessing  #\n",
    "############################\n",
    "#  [1] Symbolic Preprocessing, page 7\n",
    "#  for this procedure better see http://www.broune.com/papers/f4.pdf\n",
    "#  page 2, instead of the original paper\n",
    "\n",
    "def IsTopReducible(f, G):\n",
    "    m = f.lm()\n",
    "    for g in G:\n",
    "        if g.lm().divides(m):\n",
    "             return True, g\n",
    "    return False, 0\n",
    "\n",
    "def SymbolicPreprocessing(L, G):\n",
    "    F = set()\n",
    "    for Li in L:\n",
    "        F.add(Li[0] * Li[1])\n",
    "    done = set([f.lt() for f in F])\n",
    "    TF = set()\n",
    "    for f in F:\n",
    "        TF |= set(f.monomials())\n",
    "\n",
    "    while len(TF) > 0:\n",
    "        m = TF.pop()\n",
    "        done.add(m)\n",
    "        isReducible, f = IsTopReducible(m, G)\n",
    "        if isReducible:\n",
    "            mDash = m // f.lm()\n",
    "            F.add(mDash * f)\n",
    "            newMonomials = (mDash * f).monomials()\n",
    "            newMonomials.remove(newMonomials[0])\n",
    "            TF |= set(newMonomials)\n",
    "            TF -= done\n",
    "    return list(F)\n",
    "\n",
    "###############\n",
    "#  Reduction  #\n",
    "###############\n",
    "#  [1] Reduction, page 6\n",
    "\n",
    "def Reduction(L, G):\n",
    "    F = SymbolicPreprocessing(L, G)\n",
    "\n",
    "    leadingMonomials = set()\n",
    "    for f in F:\n",
    "        leadingMonomials.add(f.lm())\n",
    "\n",
    "    monomials = set()\n",
    "    for f in F:\n",
    "        monomials |= set(f.monomials())\n",
    "\n",
    "    monomials = list(monomials)\n",
    "    monomials.sort(reverse = True)\n",
    "\n",
    "    M = Matrix(len(F), len(monomials), lambda i, j: F[i].monomial_coefficient(monomials[j]), sparse = True)\n",
    "    M.echelonize()\n",
    "    polynomialsAfterEchelonize = []\n",
    "\n",
    "    for i in range(M.nrows()):\n",
    "        f = 0\n",
    "        for j in range(M.ncols()):\n",
    "            f += M[i, j] * monomials[j]\n",
    "        if f != 0 and f.lm() not in leadingMonomials:\n",
    "            polynomialsAfterEchelonize.append(f)\n",
    "\n",
    "    return polynomialsAfterEchelonize\n",
    "\n",
    "def IsReducible(f, F):\n",
    "    if F == []:\n",
    "        return False, 0\n",
    "    f1 = f.reduce(F)\n",
    "    if f1 != f:\n",
    "        return True, f1\n",
    "    return False, 0\n",
    "\n",
    "def ReductionOfBasis(F):\n",
    "    i = 0\n",
    "    while i < len(F):\n",
    "        if F[i] != 0:\n",
    "            G = []\n",
    "            for j in range (len(F)):\n",
    "                if j != i:\n",
    "                    if F[j] != 0:\n",
    "                        G.append(F[j])\n",
    "            (t, g) = IsReducible(F[i], G)\n",
    "            if t:\n",
    "                F[i] = g\n",
    "                i = -1\n",
    "        i += 1\n",
    "    G = []\n",
    "    for j in range (len(F)):\n",
    "        if F[j] != 0:\n",
    "            G.append(F[j] / F[j].lc())\n",
    "    return G\n",
    "\n",
    "#######################################\n",
    "#  Main function of the F4 Algorithm  #\n",
    "#######################################\n",
    "#  [1] Algorithm F4, page 6\n",
    "\n",
    "def F4(polynomials, strategy):\n",
    "    # print \"System = \", polynomials\n",
    "    (basis, pairs) = Update([], [], polynomials)\n",
    "    howManySteps = 0\n",
    "\n",
    "    while len(pairs) > 0:\n",
    "        howManySteps += 1\n",
    "        try:\n",
    "            if (strategy == 'normal'):\n",
    "                pairsSel = SelectionFunctionNormal(pairs)\n",
    "            elif (strategy == 'sugar'):\n",
    "                pairsSel = SelectionFunctionSugar(pairs)\n",
    "            else:\n",
    "                pairsSel = SelectionFunctionAll(pairs)\n",
    "        except Exception:\n",
    "                print \"\\nDivided by zero\"\n",
    "                print polynomials\n",
    "        pairs = list(set(pairs) - set(pairsSel))\n",
    "\n",
    "        Ld = set()\n",
    "        for pair in pairsSel:\n",
    "            Ld.add((pair[1], pair[2]))\n",
    "            Ld.add((pair[3], pair[4]))\n",
    "\n",
    "        Fdtplus = Reduction(Ld, basis)\n",
    "        (basis, pairs) = Update(basis, pairs, Fdtplus)\n",
    "\n",
    "    return ReductionOfBasis(basis), howManySteps\n",
    "\n",
    "print \"\\n\\nEXAMPLE 1\\n\"\n",
    "R.<x, y, z, u> = PolynomialRing(QQ, 4, order = \"degrevlex\")\n",
    "F = [x + y + z, x * y + x * z + y * z, x * y * z - u ^ 3]\n",
    "print \"The initial system F =\", F\n",
    "print \"\\nOutput of F4:\"\n",
    "print F4(F, 'normal')\n",
    "print F4(F, 'all')\n",
    "\n",
    "print \"\\n\\nEXAMPLE 2\\n\"\n",
    "f = x*y - z^2 - z\n",
    "g = x^2 - x - y*z\n",
    "h = x*z - y^2 - y\n",
    "F = [f, g, h]\n",
    "print \"The initial system F =\", F\n",
    "print \"\\nOutput of F4:\"\n",
    "print F4(F, 'normal')\n",
    "print F4(F, 'all')\n",
    "\n",
    "print \"\\n\\nEXAMPLE 3\\n\"\n",
    "R.<x1, x2, x3, x4> = PolynomialRing(QQ, 4)\n",
    "F = [4*x4, -2*x2^2 - 4*x1*x3 + 6*x4^2, 4*x1^2*x2 + 4*x2*x3^2 - 4*x2^2*x4 - 8*x1*x3*x4 + 4*x4^3, -x1^4 + x2^4 - 4*x1*x2^2*x3 + 2*x1^2*x3^2 - x3^4 + 4*x1^2*x2*x4 + 4*x2*x3^2*x4 - 2*x2^2*x4^2 - 4*x1*x3*x4^2 + x4^4]\n",
    "print \"The initial system F =\", F\n",
    "print \"\\nOutput of F4:\"\n",
    "print F4(F, 'normal')\n",
    "print F4(F, 'all')"
   ]
  },
  {
   "cell_type": "code",
   "execution_count": 8,
   "metadata": {
    "collapsed": false,
    "scrolled": true
   },
   "outputs": [
    {
     "name": "stdout",
     "output_type": "stream",
     "text": [
      "Zero in generators\n",
      "CPU times: user 6.73 s, sys: 53.4 ms, total: 6.78 s\n",
      "Wall time: 7.01 s\n"
     ]
    }
   ],
   "source": [
    "def LaunchF4(n):\n",
    "    for i in range (n):\n",
    "        generators = GetRandomGeneratorsForIdeal(4, 4, 4)\n",
    "        while 0 in generators:\n",
    "            print \"Zero in generators\"\n",
    "            generators = GetRandomGeneratorsForIdeal(4, 4, 4)\n",
    "        F4(generators, 'all')\n",
    "\n",
    "%time LaunchF4(200)"
   ]
  },
  {
   "cell_type": "markdown",
   "metadata": {
    "collapsed": false
   },
   "source": [
    "Займёмся теперь тем, что сгенерируем данные для выбора более хорошей стратегии. Будем сравнивать стратегии normal и all (реализованы в алгоритме). Пока что мы будет считать, что стратегия хороша, если при её использовании было сделано меньше итераций алгоритма. У нас будут следущие признаки для каждого идела:\n",
    "\n",
    "1. Число переменных в кольце-родителе.\n",
    "2. Число порождающих в идеале.\n",
    "3. Максимальная длина порождающего полинома (длина := число мономов).\n",
    "4. Минимальная длина порождающего полинома.\n",
    "5. Максимальная степень порождающего (полная, то есть наибольшая степень входящего в него монома).\n",
    "6. Минимальная степень порождающего.\n",
    "7. Однородный ли идеал.\n",
    "\n",
    "Так как однородные идеалы при случайной генерации не встречаются почти никогда, я вставила в генерирующую функцию условие, при котором она должна будет сделать идеал однородным (см. код функции GetRandomGeneratorsForIdeal). Функция GenerateDataSet генерирует датасет. Принимает на вход количество объектов в генерируемых данных, ограничение сверху на на число переменных в кольце-родителе, число порождающих и максимальную степень порождающих."
   ]
  },
  {
   "cell_type": "code",
   "execution_count": 9,
   "metadata": {
    "collapsed": false
   },
   "outputs": [],
   "source": [
    "import numpy as np\n",
    "import pandas as pd\n",
    "\n",
    "def Print(numOfObjects, i):\n",
    "    if numOfObjects <= 20:\n",
    "        print \"Object No: \", i\n",
    "    elif numOfObjects <= 100 and i % 10 == 0:\n",
    "        print \"Object No: \", i\n",
    "    elif numOfObjects >= 1000 and i % 50 == 0:\n",
    "        print \"Object No: \", i\n",
    "\n",
    "def GetMaxDegreeByVariable(polynomials, variable):\n",
    "    maxDegVar = max([pol.degree(variable) for pol in polynomials])\n",
    "\n",
    "def GetFeatures(generators):\n",
    "    features = {}\n",
    "    R = generators[0].parent()\n",
    "    features[\"number of variables\"] = R.ngens()\n",
    "    features[\"number of generators\"] = len(generators)\n",
    "    features[\"max number of monomials\"] = max([len(p.monomials()) for p in generators])\n",
    "    features[\"min number of monomials\"] = min([len(p.monomials()) for p in generators])\n",
    "    features[\"max degree of generators\"] = max([f.degree() for f in generators])\n",
    "    features[\"min degree of generators\"] = min([f.degree() for f in generators])\n",
    "    features[\"ideal is homogeneous\"] = int(R.ideal(generators).is_homogeneous())\n",
    "    return features\n",
    "\n",
    "def GetRandomGeneratorsForIdeal(maxVar, maxElem, maxDeg, minVar = 1, minElem = 2,  minDeg = 1):\n",
    "    nVar = np.random.randint(minVar, maxVar)\n",
    "    nElem = np.random.randint(minElem, maxElem)\n",
    "\n",
    "    R = PolynomialRing(QQ, 'x', nVar)\n",
    "    generators = []\n",
    "\n",
    "    if nVar + nElem % 2 == 1:\n",
    "        R = (R.gens()[0] + 1).homogenize().parent()     # if we apply .homognize() to a homogeneous polynomial it's parent ring won't change\n",
    "                                                        # but we want to have a unique parent for all generators\n",
    "    for i in range(nElem):\n",
    "        deg = np.random.randint(minDeg, maxDeg)\n",
    "        randomPol = R.random_element(degree = deg)\n",
    "\n",
    "        while randomPol == R(0):\n",
    "            # print \"zero random pol: \", randomPol\n",
    "            randomPol = R.random_element(degree = deg)\n",
    "\n",
    "        if nVar + nElem % 2 == 1:    # just a random criteria for a homogeneous ideal to appear\n",
    "            generators.append(R(randomPol.homogenize()))\n",
    "        else:\n",
    "            generators.append(randomPol)\n",
    "    return generators\n",
    "\n",
    "def GenerateDataSet(numOfObjects, maxVar, maxElem, maxDeg, minVar = 1, minElem = 2,  minDeg = 1):\n",
    "    allFeatures = []\n",
    "    whichStrategyIsBetter = []\n",
    "\n",
    "    for i in range (numOfObjects):\n",
    "        Print(numOfObjects, i)\n",
    "\n",
    "        generators = GetRandomGeneratorsForIdeal(maxVar, maxElem, maxDeg, minVar, minElem,  minDeg)\n",
    "        while 0 in generators:\n",
    "            generators = GetRandomGeneratorsForIdeal(maxVar, maxElem, maxDeg, minVar, minElem,  minDeg)\n",
    "\n",
    "        allFeatures.append(GetFeatures(generators))\n",
    "        basis, howManyStepsN = F4(generators, 'normal')\n",
    "        basis, howManyStepsAll = F4(generators, 'all')\n",
    "\n",
    "        if howManyStepsN <= howManyStepsAll:\n",
    "            whichStrategyIsBetter.append(1)\n",
    "        else:\n",
    "            whichStrategyIsBetter.append(0)\n",
    "\n",
    "    indices = [i for i in range(numOfObjects)]\n",
    "\n",
    "    d = {\n",
    "    'number of variables' : pd.Series([f[\"number of variables\"] for f in allFeatures], index = indices),\n",
    "    'number of generators': pd.Series([f[\"number of generators\"] for f in allFeatures], index = indices),\n",
    "    'max number of monomials': pd.Series([f[\"max number of monomials\"] for f in allFeatures], index = indices),\n",
    "    'min number of monomials': pd.Series([f[\"min number of monomials\"] for f in allFeatures], index = indices),\n",
    "    'max degree of generators': pd.Series([f[\"max degree of generators\"] for f in allFeatures], index = indices),\n",
    "    'min degree of generators': pd.Series([f[\"min degree of generators\"] for f in allFeatures], index = indices),\n",
    "    'ideal is homogeneous': pd.Series([f[\"ideal is homogeneous\"] for f in allFeatures], index = indices),\n",
    "    'better strategy: 1 - normal, 0 - all': pd.Series(whichStrategyIsBetter, index = indices)\n",
    "    }\n",
    "\n",
    "    df = pd.DataFrame(d)\n",
    "    return df"
   ]
  },
  {
   "cell_type": "markdown",
   "metadata": {
    "collapsed": false
   },
   "source": [
    "Сгенерируем датасет со случайными полиномами с коэффициентами из Q, у которых число переменных, порождающих в идеале и степень каждого из порождающих не превышает 4 (имеется в виду полная степень). Объектов у нас будет 5000."
   ]
  },
  {
   "cell_type": "code",
   "execution_count": 36,
   "metadata": {
    "collapsed": false
   },
   "outputs": [
    {
     "name": "stdout",
     "output_type": "stream",
     "text": [
      "Object No:  0\n",
      "Object No:  50\n",
      "Object No:  100\n",
      "Object No:  150\n",
      "Object No:  200\n",
      "Object No:  250\n",
      "Object No:  300\n",
      "Object No:  350\n",
      "Object No:  400\n",
      "Object No:  450\n",
      "Object No:  500\n",
      "Object No:  550\n",
      "Object No:  600\n",
      "Object No:  650\n",
      "Object No:  700\n",
      "Object No:  750\n",
      "Object No:  800\n",
      "Object No:  850\n",
      "Object No:  900\n",
      "Object No:  950\n",
      "Object No:  1000\n",
      "Object No:  1050\n",
      "Object No:  1100\n",
      "Object No:  1150\n",
      "Object No:  1200\n",
      "Object No:  1250\n",
      "Object No:  1300\n",
      "Object No:  1350\n",
      "Object No:  1400\n",
      "Object No:  1450\n",
      "Object No:  1500\n",
      "Object No:  1550\n",
      "Object No:  1600\n",
      "Object No:  1650\n",
      "Object No:  1700\n",
      "Object No:  1750\n",
      "Object No:  1800\n",
      "Object No:  1850\n",
      "Object No:  1900\n",
      "Object No:  1950\n",
      "Object No:  2000\n",
      "Object No:  2050\n",
      "Object No:  2100\n",
      "Object No:  2150\n",
      "Object No:  2200\n",
      "Object No:  2250\n",
      "Object No:  2300\n",
      "Object No:  2350\n",
      "Object No:  2400\n",
      "Object No:  2450\n",
      "Object No:  2500\n",
      "Object No:  2550\n",
      "Object No:  2600\n",
      "Object No:  2650\n",
      "Object No:  2700\n",
      "Object No:  2750\n",
      "Object No:  2800\n",
      "Object No:  2850\n",
      "Object No:  2900\n",
      "Object No:  2950\n",
      "Object No:  3000\n",
      "Object No:  3050\n",
      "Object No:  3100\n",
      "Object No:  3150\n",
      "Object No:  3200\n",
      "Object No:  3250\n",
      "Object No:  3300\n",
      "Object No:  3350\n",
      "Object No:  3400\n",
      "Object No:  3450\n",
      "Object No:  3500\n",
      "Object No:  3550\n",
      "Object No:  3600\n",
      "Object No:  3650\n",
      "Object No:  3700\n",
      "Object No:  3750\n",
      "Object No:  3800\n",
      "Object No:  3850\n",
      "Object No:  3900\n",
      "Object No:  3950\n",
      "Object No:  4000\n",
      "Object No:  4050\n",
      "Object No:  4100\n",
      "Object No:  4150\n",
      "Object No:  4200\n",
      "Object No:  4250\n",
      "Object No:  4300\n",
      "Object No:  4350\n",
      "Object No:  4400\n",
      "Object No:  4450\n",
      "Object No:  4500\n",
      "Object No:  4550\n",
      "Object No:  4600\n",
      "Object No:  4650\n",
      "Object No:  4700\n",
      "Object No:  4750\n",
      "Object No:  4800\n",
      "Object No:  4850\n",
      "Object No:  4900\n",
      "Object No:  4950\n",
      "CPU times: user 9min 50s, sys: 6.64 s, total: 9min 56s\n",
      "Wall time: 10min 17s\n"
     ]
    }
   ],
   "source": [
    "%time df = GenerateDataSet(5000, 4, 4, 4)"
   ]
  },
  {
   "cell_type": "code",
   "execution_count": 37,
   "metadata": {
    "collapsed": false
   },
   "outputs": [
    {
     "data": {
      "text/html": [
       "<div>\n",
       "<style scoped>\n",
       "    .dataframe tbody tr th:only-of-type {\n",
       "        vertical-align: middle;\n",
       "    }\n",
       "\n",
       "    .dataframe tbody tr th {\n",
       "        vertical-align: top;\n",
       "    }\n",
       "\n",
       "    .dataframe thead th {\n",
       "        text-align: right;\n",
       "    }\n",
       "</style>\n",
       "<table border=\"1\" class=\"dataframe\">\n",
       "  <thead>\n",
       "    <tr style=\"text-align: right;\">\n",
       "      <th></th>\n",
       "      <th>better strategy: 1 - normal, 0 - all</th>\n",
       "      <th>ideal is homogeneous</th>\n",
       "      <th>max degree of generators</th>\n",
       "      <th>max number of monomials</th>\n",
       "      <th>min degree of generators</th>\n",
       "      <th>min number of monomials</th>\n",
       "      <th>number of generators</th>\n",
       "      <th>number of variables</th>\n",
       "    </tr>\n",
       "  </thead>\n",
       "  <tbody>\n",
       "    <tr>\n",
       "      <th>0</th>\n",
       "      <td>1</td>\n",
       "      <td>0</td>\n",
       "      <td>3</td>\n",
       "      <td>5</td>\n",
       "      <td>1</td>\n",
       "      <td>3</td>\n",
       "      <td>2</td>\n",
       "      <td>3</td>\n",
       "    </tr>\n",
       "    <tr>\n",
       "      <th>1</th>\n",
       "      <td>1</td>\n",
       "      <td>0</td>\n",
       "      <td>1</td>\n",
       "      <td>2</td>\n",
       "      <td>0</td>\n",
       "      <td>1</td>\n",
       "      <td>3</td>\n",
       "      <td>1</td>\n",
       "    </tr>\n",
       "    <tr>\n",
       "      <th>2</th>\n",
       "      <td>0</td>\n",
       "      <td>0</td>\n",
       "      <td>2</td>\n",
       "      <td>5</td>\n",
       "      <td>2</td>\n",
       "      <td>3</td>\n",
       "      <td>2</td>\n",
       "      <td>2</td>\n",
       "    </tr>\n",
       "    <tr>\n",
       "      <th>3</th>\n",
       "      <td>0</td>\n",
       "      <td>0</td>\n",
       "      <td>3</td>\n",
       "      <td>4</td>\n",
       "      <td>2</td>\n",
       "      <td>3</td>\n",
       "      <td>3</td>\n",
       "      <td>1</td>\n",
       "    </tr>\n",
       "    <tr>\n",
       "      <th>4</th>\n",
       "      <td>0</td>\n",
       "      <td>0</td>\n",
       "      <td>3</td>\n",
       "      <td>4</td>\n",
       "      <td>1</td>\n",
       "      <td>2</td>\n",
       "      <td>3</td>\n",
       "      <td>3</td>\n",
       "    </tr>\n",
       "  </tbody>\n",
       "</table>\n",
       "</div>"
      ]
     },
     "execution_count": 37,
     "metadata": {},
     "output_type": "execute_result"
    }
   ],
   "source": [
    "df.head()"
   ]
  },
  {
   "cell_type": "code",
   "execution_count": 39,
   "metadata": {
    "collapsed": false
   },
   "outputs": [
    {
     "name": "stdout",
     "output_type": "stream",
     "text": [
      "Populating the interactive namespace from numpy and matplotlib\n"
     ]
    }
   ],
   "source": [
    "import pandas as pd\n",
    "import pylab as plt\n",
    "import seaborn\n",
    "import numpy as np\n",
    "import re\n",
    "from sklearn.cross_validation import train_test_split\n",
    "from sklearn.svm import SVC\n",
    "from sklearn import metrics\n",
    "%pylab inline"
   ]
  },
  {
   "cell_type": "code",
   "execution_count": 40,
   "metadata": {
    "collapsed": false
   },
   "outputs": [
    {
     "data": {
      "text/html": [
       "<div>\n",
       "<style scoped>\n",
       "    .dataframe tbody tr th:only-of-type {\n",
       "        vertical-align: middle;\n",
       "    }\n",
       "\n",
       "    .dataframe tbody tr th {\n",
       "        vertical-align: top;\n",
       "    }\n",
       "\n",
       "    .dataframe thead th {\n",
       "        text-align: right;\n",
       "    }\n",
       "</style>\n",
       "<table border=\"1\" class=\"dataframe\">\n",
       "  <thead>\n",
       "    <tr style=\"text-align: right;\">\n",
       "      <th></th>\n",
       "      <th>ideal is homogeneous</th>\n",
       "      <th>max degree of generators</th>\n",
       "      <th>max number of monomials</th>\n",
       "      <th>min degree of generators</th>\n",
       "      <th>min number of monomials</th>\n",
       "      <th>number of generators</th>\n",
       "      <th>number of variables</th>\n",
       "    </tr>\n",
       "  </thead>\n",
       "  <tbody>\n",
       "    <tr>\n",
       "      <th>0</th>\n",
       "      <td>0</td>\n",
       "      <td>3</td>\n",
       "      <td>5</td>\n",
       "      <td>1</td>\n",
       "      <td>3</td>\n",
       "      <td>2</td>\n",
       "      <td>3</td>\n",
       "    </tr>\n",
       "    <tr>\n",
       "      <th>1</th>\n",
       "      <td>0</td>\n",
       "      <td>1</td>\n",
       "      <td>2</td>\n",
       "      <td>0</td>\n",
       "      <td>1</td>\n",
       "      <td>3</td>\n",
       "      <td>1</td>\n",
       "    </tr>\n",
       "    <tr>\n",
       "      <th>2</th>\n",
       "      <td>0</td>\n",
       "      <td>2</td>\n",
       "      <td>5</td>\n",
       "      <td>2</td>\n",
       "      <td>3</td>\n",
       "      <td>2</td>\n",
       "      <td>2</td>\n",
       "    </tr>\n",
       "    <tr>\n",
       "      <th>3</th>\n",
       "      <td>0</td>\n",
       "      <td>3</td>\n",
       "      <td>4</td>\n",
       "      <td>2</td>\n",
       "      <td>3</td>\n",
       "      <td>3</td>\n",
       "      <td>1</td>\n",
       "    </tr>\n",
       "    <tr>\n",
       "      <th>4</th>\n",
       "      <td>0</td>\n",
       "      <td>3</td>\n",
       "      <td>4</td>\n",
       "      <td>1</td>\n",
       "      <td>2</td>\n",
       "      <td>3</td>\n",
       "      <td>3</td>\n",
       "    </tr>\n",
       "  </tbody>\n",
       "</table>\n",
       "</div>"
      ]
     },
     "execution_count": 40,
     "metadata": {},
     "output_type": "execute_result"
    }
   ],
   "source": [
    "df['better strategy: 1 - normal, 0 - all'] = np.where(df['better strategy: 1 - normal, 0 - all'] == 1, 1, 0)\n",
    "y = df['better strategy: 1 - normal, 0 - all'] #выделили в отдельную переменную\n",
    "X = df.drop('better strategy: 1 - normal, 0 - all', axis = 1)\n",
    "X.head()"
   ]
  },
  {
   "cell_type": "markdown",
   "metadata": {
    "collapsed": false
   },
   "source": [
    "Разделим нашу выборку на обучающую и тестовую."
   ]
  },
  {
   "cell_type": "code",
   "execution_count": 41,
   "metadata": {
    "collapsed": false
   },
   "outputs": [],
   "source": [
    "X_train, X_test, y_train, y_test = train_test_split(X, y, random_state = 42)"
   ]
  },
  {
   "cell_type": "code",
   "execution_count": 42,
   "metadata": {
    "collapsed": false
   },
   "outputs": [
    {
     "data": {
      "text/html": [
       "<div>\n",
       "<style scoped>\n",
       "    .dataframe tbody tr th:only-of-type {\n",
       "        vertical-align: middle;\n",
       "    }\n",
       "\n",
       "    .dataframe tbody tr th {\n",
       "        vertical-align: top;\n",
       "    }\n",
       "\n",
       "    .dataframe thead th {\n",
       "        text-align: right;\n",
       "    }\n",
       "</style>\n",
       "<table border=\"1\" class=\"dataframe\">\n",
       "  <thead>\n",
       "    <tr style=\"text-align: right;\">\n",
       "      <th></th>\n",
       "      <th>ideal is homogeneous</th>\n",
       "      <th>max degree of generators</th>\n",
       "      <th>max number of monomials</th>\n",
       "      <th>min degree of generators</th>\n",
       "      <th>min number of monomials</th>\n",
       "      <th>number of generators</th>\n",
       "      <th>number of variables</th>\n",
       "    </tr>\n",
       "  </thead>\n",
       "  <tbody>\n",
       "    <tr>\n",
       "      <th>4884</th>\n",
       "      <td>0</td>\n",
       "      <td>2</td>\n",
       "      <td>5</td>\n",
       "      <td>1</td>\n",
       "      <td>2</td>\n",
       "      <td>3</td>\n",
       "      <td>3</td>\n",
       "    </tr>\n",
       "    <tr>\n",
       "      <th>3163</th>\n",
       "      <td>0</td>\n",
       "      <td>3</td>\n",
       "      <td>5</td>\n",
       "      <td>2</td>\n",
       "      <td>2</td>\n",
       "      <td>2</td>\n",
       "      <td>2</td>\n",
       "    </tr>\n",
       "    <tr>\n",
       "      <th>490</th>\n",
       "      <td>1</td>\n",
       "      <td>1</td>\n",
       "      <td>2</td>\n",
       "      <td>1</td>\n",
       "      <td>2</td>\n",
       "      <td>2</td>\n",
       "      <td>2</td>\n",
       "    </tr>\n",
       "    <tr>\n",
       "      <th>862</th>\n",
       "      <td>0</td>\n",
       "      <td>3</td>\n",
       "      <td>4</td>\n",
       "      <td>2</td>\n",
       "      <td>3</td>\n",
       "      <td>2</td>\n",
       "      <td>2</td>\n",
       "    </tr>\n",
       "    <tr>\n",
       "      <th>1740</th>\n",
       "      <td>1</td>\n",
       "      <td>1</td>\n",
       "      <td>2</td>\n",
       "      <td>1</td>\n",
       "      <td>2</td>\n",
       "      <td>2</td>\n",
       "      <td>2</td>\n",
       "    </tr>\n",
       "  </tbody>\n",
       "</table>\n",
       "</div>"
      ]
     },
     "execution_count": 42,
     "metadata": {},
     "output_type": "execute_result"
    }
   ],
   "source": [
    "X_train.head()"
   ]
  },
  {
   "cell_type": "markdown",
   "metadata": {
    "collapsed": false
   },
   "source": [
    "Обучим на SVM-классификатор с RBF-ядром. Параметры пока оставим по умолчанию."
   ]
  },
  {
   "cell_type": "code",
   "execution_count": 43,
   "metadata": {
    "collapsed": false
   },
   "outputs": [
    {
     "data": {
      "text/plain": [
       "SVC(C=1.0, cache_size=200, class_weight=None, coef0=0.0,\n",
       "  decision_function_shape='ovr', degree=3, gamma='auto', kernel='rbf',\n",
       "  max_iter=-1, probability=False, random_state=None, shrinking=True,\n",
       "  tol=0.001, verbose=False)"
      ]
     },
     "execution_count": 43,
     "metadata": {},
     "output_type": "execute_result"
    }
   ],
   "source": [
    "clf = SVC(kernel = 'rbf')\n",
    "clf.fit(X_train, y_train)"
   ]
  },
  {
   "cell_type": "markdown",
   "metadata": {
    "collapsed": false
   },
   "source": [
    "Попросим классификатор что-нибудь предсказать."
   ]
  },
  {
   "cell_type": "code",
   "execution_count": 62,
   "metadata": {
    "collapsed": false
   },
   "outputs": [
    {
     "data": {
      "text/plain": [
       "array([1, 0, 0, 0, 0, 0, 0, 0, 0, 1])"
      ]
     },
     "execution_count": 62,
     "metadata": {},
     "output_type": "execute_result"
    }
   ],
   "source": [
    "pred_svm = clf.predict(X_test)\n",
    "pred_svm[ : 10]"
   ]
  },
  {
   "cell_type": "markdown",
   "metadata": {
    "collapsed": false
   },
   "source": [
    "Посмотрим, насколько точно наш классификатор выдаёт ответы. Сделаем это с помощью следующих трёх метрик:\n",
    "- accuracy: $$ Accuracy = \\frac{1}{l}\\sum_{i=1}^l[y_i = \\hat{y}_i]$$ где $y_i$ — истинный ответ на объекте $x_i$, $\\hat{y}_i$ — предсказанный. (лучше не переводить *accuracy* как точность, потому что в русскоязычной литературе точностью называют другую метрику)\n",
    "- точность: $$Precision = \\frac{TP}{TP + FP}$$\n",
    "- полнота: $$Recall = \\frac{TP}{TP + FN}$$\n",
    "\n",
    "где обозначения *TP*, *FP*, *FN* и *TN* — элементы матрицы ошибок:\n",
    "\n",
    "| | y = 1 | y = 0 |\n",
    "|------|------|\n",
    "|   a(x) = 1  | TP| FP |\n",
    "| a(x) = 0| FN | TN |\n",
    "\n",
    "Точность и полнота вычисляются относительно фиксированного класса. Получается, что accuracy -- это просто доля верно предсказанных ответов. Точность -- это доля верно отнесённых к рассматриваему классу объектов. Полнота -- насколько хорошо мы предсказываем объекты данного класса (ведь FN = false negative -- пропущенный объект рассматриваемого класса). Измерим все эти три метрики."
   ]
  },
  {
   "cell_type": "code",
   "execution_count": 64,
   "metadata": {
    "collapsed": false
   },
   "outputs": [
    {
     "name": "stdout",
     "output_type": "stream",
     "text": [
      "accuracy =  0.8752\n"
     ]
    }
   ],
   "source": [
    "print \"accuracy = \", metrics.accuracy_score(y_test, pred_svm)"
   ]
  },
  {
   "cell_type": "code",
   "execution_count": 65,
   "metadata": {
    "collapsed": false
   },
   "outputs": [
    {
     "name": "stdout",
     "output_type": "stream",
     "text": [
      "              precision    recall  f1-score   support\n",
      "\n",
      "   class all       0.89      0.95      0.92       942\n",
      "class normal       0.81      0.65      0.72       308\n",
      "\n",
      " avg / total       0.87      0.88      0.87      1250\n",
      "\n"
     ]
    }
   ],
   "source": [
    "from sklearn.metrics import classification_report\n",
    "\n",
    "target_names = ['class all', 'class normal']\n",
    "\n",
    "print classification_report(y_test, pred_svm, target_names = target_names)"
   ]
  },
  {
   "cell_type": "markdown",
   "metadata": {
    "collapsed": false
   },
   "source": [
    "Получается, что в 87% случаев ответ классификатора верный (по метрике accuracy). Кажется, что это довольно неплохо.\n",
    "\n",
    "Видно, что показатели precision оба довольно высоки, а показатель recall для класса normal похуже. Оно и понятно, ведь, как ни странно, стратегия \"взять все S-полиномы\" часто оказывается лучше нормальной, то есть класс all встречается чаще. Хотя это только по числу шагов, стоит измерить и по другим параметрам.\n",
    "\n",
    "Измерим качество предсказаний с помощью ещё двух метрик качества: площадями под ROC-кривой и Recall-кривой.\n",
    "\n",
    "### Precision-Recall кривая\n",
    "\n",
    "Раз мы умеем варьировать порог классификатора, тем самым меняя качество, интересно каким оно будет при всех возможных различных порогах. Для этого обычно строят следующий график: перебирают все пороги и по оси ОХ откладывают полноту получившегося классификатора, а по оси OY — точность. Таким образом, это дает хорошую наглядную визуализацию качества алгоритма.\n",
    "\n",
    "### ROC кривая\n",
    "\n",
    "Еще один из способ визуализации зависимости метрик качества от порога, подходящей в этом случае, является *ROC*. По осям: \n",
    " - OX: $FPR = \\frac{FP}{FP + TN}$\n",
    " - OY: $TPR = \\frac{TP}{TP + FN}$\n",
    "\n",
    "Кроме того, можно измерять площади под указанными кривыми — *auc_pr* и *auc_roc* соответственно.\n",
    "\n",
    "Нарисуем эти кривые для нашего случая и вычислим площади под ними."
   ]
  },
  {
   "cell_type": "code",
   "execution_count": 56,
   "metadata": {
    "collapsed": false
   },
   "outputs": [
    {
     "data": {
      "text/plain": [
       "array([[ 0.1663327 ,  0.8336673 ],\n",
       "       [ 0.91103688,  0.08896312],\n",
       "       [ 0.89384296,  0.10615704],\n",
       "       [ 0.99221636,  0.00778364],\n",
       "       [ 0.90802248,  0.09197752],\n",
       "       [ 0.85048851,  0.14951149],\n",
       "       [ 0.85056179,  0.14943821],\n",
       "       [ 0.97746587,  0.02253413],\n",
       "       [ 0.82045168,  0.17954832],\n",
       "       [ 0.13214548,  0.86785452]])"
      ]
     },
     "execution_count": 56,
     "metadata": {},
     "output_type": "execute_result"
    }
   ],
   "source": [
    "clf = SVC(kernel = 'rbf', probability = True)\n",
    "clf.fit(X_train, y_train)\n",
    "predprob_svm = clf.predict_proba(X_test)\n",
    "predprob_svm[ : 10]"
   ]
  },
  {
   "cell_type": "code",
   "execution_count": 58,
   "metadata": {
    "collapsed": false
   },
   "outputs": [
    {
     "data": {
      "image/png": "[encoded data removed]"
     },
     "execution_count": 58,
     "metadata": {},
     "output_type": "execute_result"
    }
   ],
   "source": [
    "fpr, tpr, thresholds = metrics.roc_curve(y_test, predprob_svm[:, 1])\n",
    "plt.plot(fpr, tpr)\n",
    "plt.title('ROC-curve')\n",
    "plt.xlabel('FPR')\n",
    "plt.ylabel('TPR')\n",
    "plt.show()"
   ]
  },
  {
   "cell_type": "code",
   "execution_count": 59,
   "metadata": {
    "collapsed": false
   },
   "outputs": [
    {
     "name": "stdout",
     "output_type": "stream",
     "text": [
      "AUC-ROC: 0.925441861748\n"
     ]
    }
   ],
   "source": [
    "print 'AUC-ROC:', metrics.auc(fpr, tpr)"
   ]
  },
  {
   "cell_type": "code",
   "execution_count": 60,
   "metadata": {
    "collapsed": false
   },
   "outputs": [
    {
     "data": {
      "image/png": "[encoded data removed]"
     },
     "execution_count": 60,
     "metadata": {},
     "output_type": "execute_result"
    }
   ],
   "source": [
    "precision, recall, thresholds = metrics.precision_recall_curve(y_test, predprob_svm[:, 1])\n",
    "plt.plot(recall, precision)\n",
    "plt.title('Precision-Recall-curve')\n",
    "plt.xlabel('recall')\n",
    "plt.ylabel('precision')\n",
    "plt.show()"
   ]
  },
  {
   "cell_type": "code",
   "execution_count": 61,
   "metadata": {
    "collapsed": false
   },
   "outputs": [
    {
     "name": "stdout",
     "output_type": "stream",
     "text": [
      "AUC-PR:  0.829402425151\n"
     ]
    }
   ],
   "source": [
    "print \"AUC-PR: \", metrics.auc(recall, precision)"
   ]
  },
  {
   "cell_type": "markdown",
   "metadata": {
    "collapsed": false
   },
   "source": [
    "Видно, что показатели весьма хороши: AUC-ROC = 0.925441861748 и AUC-PR = 0.829402425151. "
   ]
  },
  {
   "cell_type": "code",
   "execution_count": 0,
   "metadata": {
    "collapsed": false
   },
   "outputs": [],
   "source": []
  }
 ],
 "metadata": {
  "kernelspec": {
   "display_name": "Python 2",
   "language": "python",
   "name": "python2"
  },
  "language_info": {
   "codemirror_mode": {
    "name": "ipython",
    "version": 2
   },
   "file_extension": ".py",
   "mimetype": "text/x-python",
   "name": "python",
   "nbconvert_exporter": "python",
   "pygments_lexer": "ipython2",
   "version": "2.7.13"
  }
 },
 "nbformat": 4,
 "nbformat_minor": 0
}
